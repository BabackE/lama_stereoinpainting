{
 "cells": [
  {
   "cell_type": "code",
   "execution_count": 12,
   "metadata": {},
   "outputs": [
    {
     "name": "stdout",
     "output_type": "stream",
     "text": [
      "The autoreload extension is already loaded. To reload it, use:\n",
      "  %reload_ext autoreload\n"
     ]
    }
   ],
   "source": [
    "import h5py\n",
    "from tqdm.notebook import tqdm\n",
    "import matplotlib.pyplot as plt\n",
    "import cv2\n",
    "import os\n",
    "import numpy as np\n",
    "\n",
    "from depth_h5py_gen import *\n",
    "\n",
    "%load_ext autoreload\n",
    "%autoreload 2\n",
    "\n",
    "def find_broken_datasets(file_path):\n",
    "    broken_datasets = []\n",
    "\n",
    "    # Open the HDF5 file\n",
    "    with h5py.File(file_path, 'r') as hdf_file:\n",
    "        # Recursive function to check groups\n",
    "        def check_groups(group):\n",
    "            # Collect group keys only (not datasets)\n",
    "            group_keys = [key for key, item in group.items() if isinstance(item, h5py.Group)]\n",
    "            with tqdm(total=len(group_keys), desc=f\"Checking group {group.name}\", unit=\"group\") as pbar:\n",
    "                for name, item in group.items():\n",
    "                    if isinstance(item, h5py.Dataset):  # Check if it's a dataset\n",
    "                        # Check for missing attributes\n",
    "                        if 'min' not in item.attrs or 'range' not in item.attrs:\n",
    "                            broken_datasets.append(item.name)\n",
    "                    elif isinstance(item, h5py.Group):  # Recurse into groups\n",
    "                        pbar.update(1)\n",
    "                        check_groups(item)  # Recursive call for the subgroup\n",
    "\n",
    "        # Start checking from the root group\n",
    "        check_groups(hdf_file)\n",
    "\n",
    "    return broken_datasets"
   ]
  },
  {
   "cell_type": "code",
   "execution_count": 13,
   "metadata": {},
   "outputs": [
    {
     "data": {
      "application/vnd.jupyter.widget-view+json": {
       "model_id": "383f2d451ff34d559cccba392965a4e4",
       "version_major": 2,
       "version_minor": 0
      },
      "text/plain": [
       "Checking group /:   0%|          | 0/1 [00:00<?, ?group/s]"
      ]
     },
     "metadata": {},
     "output_type": "display_data"
    },
    {
     "data": {
      "application/vnd.jupyter.widget-view+json": {
       "model_id": "8ea27fc8abb24a8e89dbc5cc346abb21",
       "version_major": 2,
       "version_minor": 0
      },
      "text/plain": [
       "Checking group /data_large:   0%|          | 0/24 [00:00<?, ?group/s]"
      ]
     },
     "metadata": {},
     "output_type": "display_data"
    },
    {
     "data": {
      "application/vnd.jupyter.widget-view+json": {
       "model_id": "cfda41d3d10c438eb602eb7133959baf",
       "version_major": 2,
       "version_minor": 0
      },
      "text/plain": [
       "Checking group /data_large/a:   0%|          | 0/28 [00:00<?, ?group/s]"
      ]
     },
     "metadata": {},
     "output_type": "display_data"
    },
    {
     "data": {
      "application/vnd.jupyter.widget-view+json": {
       "model_id": "8b9c388201d0499a991204f9c9cc5ebc",
       "version_major": 2,
       "version_minor": 0
      },
      "text/plain": [
       "Checking group /data_large/a/airfield: 0group [00:00, ?group/s]"
      ]
     },
     "metadata": {},
     "output_type": "display_data"
    },
    {
     "data": {
      "application/vnd.jupyter.widget-view+json": {
       "model_id": "1cb9bd06ef3c449d99737d4494f1536e",
       "version_major": 2,
       "version_minor": 0
      },
      "text/plain": [
       "Checking group /data_large/a/airplane_cabin: 0group [00:00, ?group/s]"
      ]
     },
     "metadata": {},
     "output_type": "display_data"
    },
    {
     "data": {
      "application/vnd.jupyter.widget-view+json": {
       "model_id": "09e823d97306488eb8ee36efdd565c6b",
       "version_major": 2,
       "version_minor": 0
      },
      "text/plain": [
       "Checking group /data_large/a/airport_terminal: 0group [00:00, ?group/s]"
      ]
     },
     "metadata": {},
     "output_type": "display_data"
    },
    {
     "data": {
      "application/vnd.jupyter.widget-view+json": {
       "model_id": "fa4f83e14fd0441ebe0e2f7983c17c0d",
       "version_major": 2,
       "version_minor": 0
      },
      "text/plain": [
       "Checking group /data_large/a/alcove: 0group [00:00, ?group/s]"
      ]
     },
     "metadata": {},
     "output_type": "display_data"
    },
    {
     "data": {
      "application/vnd.jupyter.widget-view+json": {
       "model_id": "8eef75419c474723a1a75f2a5e93ab22",
       "version_major": 2,
       "version_minor": 0
      },
      "text/plain": [
       "Checking group /data_large/a/alley: 0group [00:00, ?group/s]"
      ]
     },
     "metadata": {},
     "output_type": "display_data"
    },
    {
     "data": {
      "application/vnd.jupyter.widget-view+json": {
       "model_id": "aba7fd2e23484eebb7410c9b6de0cabf",
       "version_major": 2,
       "version_minor": 0
      },
      "text/plain": [
       "Checking group /data_large/a/amphitheater: 0group [00:00, ?group/s]"
      ]
     },
     "metadata": {},
     "output_type": "display_data"
    },
    {
     "data": {
      "application/vnd.jupyter.widget-view+json": {
       "model_id": "b651c191e1a44d019d00048dcfc80909",
       "version_major": 2,
       "version_minor": 0
      },
      "text/plain": [
       "Checking group /data_large/a/amusement_arcade: 0group [00:00, ?group/s]"
      ]
     },
     "metadata": {},
     "output_type": "display_data"
    },
    {
     "data": {
      "application/vnd.jupyter.widget-view+json": {
       "model_id": "19db1d0b3ada4c29b496ef8f56b66761",
       "version_major": 2,
       "version_minor": 0
      },
      "text/plain": [
       "Checking group /data_large/a/amusement_park: 0group [00:00, ?group/s]"
      ]
     },
     "metadata": {},
     "output_type": "display_data"
    },
    {
     "data": {
      "application/vnd.jupyter.widget-view+json": {
       "model_id": "42c16be1d5f64e7f8795df5717c89313",
       "version_major": 2,
       "version_minor": 0
      },
      "text/plain": [
       "Checking group /data_large/a/apartment_building:   0%|          | 0/1 [00:00<?, ?group/s]"
      ]
     },
     "metadata": {},
     "output_type": "display_data"
    },
    {
     "data": {
      "application/vnd.jupyter.widget-view+json": {
       "model_id": "45008e4afd2649179fc05bb8d6cb6266",
       "version_major": 2,
       "version_minor": 0
      },
      "text/plain": [
       "Checking group /data_large/a/apartment_building/outdoor: 0group [00:00, ?group/s]"
      ]
     },
     "metadata": {},
     "output_type": "display_data"
    },
    {
     "data": {
      "application/vnd.jupyter.widget-view+json": {
       "model_id": "36e01a2f5e3141909991d3b885d515f5",
       "version_major": 2,
       "version_minor": 0
      },
      "text/plain": [
       "Checking group /data_large/a/aquarium: 0group [00:00, ?group/s]"
      ]
     },
     "metadata": {},
     "output_type": "display_data"
    },
    {
     "data": {
      "application/vnd.jupyter.widget-view+json": {
       "model_id": "baf1a49c96b041a793e6149a96568a4a",
       "version_major": 2,
       "version_minor": 0
      },
      "text/plain": [
       "Checking group /data_large/a/aqueduct: 0group [00:00, ?group/s]"
      ]
     },
     "metadata": {},
     "output_type": "display_data"
    },
    {
     "data": {
      "application/vnd.jupyter.widget-view+json": {
       "model_id": "774a73dc46e343809598493d3ab97b54",
       "version_major": 2,
       "version_minor": 0
      },
      "text/plain": [
       "Checking group /data_large/a/arcade: 0group [00:00, ?group/s]"
      ]
     },
     "metadata": {},
     "output_type": "display_data"
    },
    {
     "data": {
      "application/vnd.jupyter.widget-view+json": {
       "model_id": "3cad08c01e334e6e9d94036f46c59b67",
       "version_major": 2,
       "version_minor": 0
      },
      "text/plain": [
       "Checking group /data_large/a/arch: 0group [00:00, ?group/s]"
      ]
     },
     "metadata": {},
     "output_type": "display_data"
    },
    {
     "data": {
      "application/vnd.jupyter.widget-view+json": {
       "model_id": "979f2e7e501c4857acc787fc01481edf",
       "version_major": 2,
       "version_minor": 0
      },
      "text/plain": [
       "Checking group /data_large/a/archaelogical_excavation: 0group [00:00, ?group/s]"
      ]
     },
     "metadata": {},
     "output_type": "display_data"
    },
    {
     "data": {
      "application/vnd.jupyter.widget-view+json": {
       "model_id": "90c83ea8e2d344eb93d0d72ee516c57b",
       "version_major": 2,
       "version_minor": 0
      },
      "text/plain": [
       "Checking group /data_large/a/archive: 0group [00:00, ?group/s]"
      ]
     },
     "metadata": {},
     "output_type": "display_data"
    },
    {
     "data": {
      "application/vnd.jupyter.widget-view+json": {
       "model_id": "28b6a2572a09435099211b850bb22779",
       "version_major": 2,
       "version_minor": 0
      },
      "text/plain": [
       "Checking group /data_large/a/arena:   0%|          | 0/3 [00:00<?, ?group/s]"
      ]
     },
     "metadata": {},
     "output_type": "display_data"
    },
    {
     "data": {
      "application/vnd.jupyter.widget-view+json": {
       "model_id": "4e56f47af9a24a9ebea9dd3c9780ab97",
       "version_major": 2,
       "version_minor": 0
      },
      "text/plain": [
       "Checking group /data_large/a/arena/hockey: 0group [00:00, ?group/s]"
      ]
     },
     "metadata": {},
     "output_type": "display_data"
    },
    {
     "data": {
      "application/vnd.jupyter.widget-view+json": {
       "model_id": "9fc7bb3b738d468aafb19b1d6bfd9c2e",
       "version_major": 2,
       "version_minor": 0
      },
      "text/plain": [
       "Checking group /data_large/a/arena/performance: 0group [00:00, ?group/s]"
      ]
     },
     "metadata": {},
     "output_type": "display_data"
    },
    {
     "data": {
      "application/vnd.jupyter.widget-view+json": {
       "model_id": "a29225c364d147419259af3bdc2beec6",
       "version_major": 2,
       "version_minor": 0
      },
      "text/plain": [
       "Checking group /data_large/a/arena/rodeo: 0group [00:00, ?group/s]"
      ]
     },
     "metadata": {},
     "output_type": "display_data"
    },
    {
     "data": {
      "application/vnd.jupyter.widget-view+json": {
       "model_id": "191821cff61f4196ba0e9ed216c25c5b",
       "version_major": 2,
       "version_minor": 0
      },
      "text/plain": [
       "Checking group /data_large/a/army_base: 0group [00:00, ?group/s]"
      ]
     },
     "metadata": {},
     "output_type": "display_data"
    },
    {
     "data": {
      "application/vnd.jupyter.widget-view+json": {
       "model_id": "a8eb01d04f054c3ea5f83ee7dec11f2b",
       "version_major": 2,
       "version_minor": 0
      },
      "text/plain": [
       "Checking group /data_large/a/art_gallery: 0group [00:00, ?group/s]"
      ]
     },
     "metadata": {},
     "output_type": "display_data"
    },
    {
     "data": {
      "application/vnd.jupyter.widget-view+json": {
       "model_id": "bbb34576b9cf4cf6af74ab65c6a508c8",
       "version_major": 2,
       "version_minor": 0
      },
      "text/plain": [
       "Checking group /data_large/a/art_school: 0group [00:00, ?group/s]"
      ]
     },
     "metadata": {},
     "output_type": "display_data"
    },
    {
     "data": {
      "application/vnd.jupyter.widget-view+json": {
       "model_id": "016cca31d770494da113cb49c1f16561",
       "version_major": 2,
       "version_minor": 0
      },
      "text/plain": [
       "Checking group /data_large/a/art_studio: 0group [00:00, ?group/s]"
      ]
     },
     "metadata": {},
     "output_type": "display_data"
    },
    {
     "data": {
      "application/vnd.jupyter.widget-view+json": {
       "model_id": "5655c24102364c83bcc0d1d470f3abc5",
       "version_major": 2,
       "version_minor": 0
      },
      "text/plain": [
       "Checking group /data_large/a/artists_loft: 0group [00:00, ?group/s]"
      ]
     },
     "metadata": {},
     "output_type": "display_data"
    },
    {
     "data": {
      "application/vnd.jupyter.widget-view+json": {
       "model_id": "4659c95793584147b9da0f40feb6d30d",
       "version_major": 2,
       "version_minor": 0
      },
      "text/plain": [
       "Checking group /data_large/a/assembly_line: 0group [00:00, ?group/s]"
      ]
     },
     "metadata": {},
     "output_type": "display_data"
    },
    {
     "data": {
      "application/vnd.jupyter.widget-view+json": {
       "model_id": "35ffb037af384fed85dc593cc758c6ce",
       "version_major": 2,
       "version_minor": 0
      },
      "text/plain": [
       "Checking group /data_large/a/athletic_field:   0%|          | 0/1 [00:00<?, ?group/s]"
      ]
     },
     "metadata": {},
     "output_type": "display_data"
    },
    {
     "data": {
      "application/vnd.jupyter.widget-view+json": {
       "model_id": "4ab23af2ce504a58adf208902f0e2772",
       "version_major": 2,
       "version_minor": 0
      },
      "text/plain": [
       "Checking group /data_large/a/athletic_field/outdoor: 0group [00:00, ?group/s]"
      ]
     },
     "metadata": {},
     "output_type": "display_data"
    },
    {
     "data": {
      "application/vnd.jupyter.widget-view+json": {
       "model_id": "43a54d8c783345629abea01175df1e78",
       "version_major": 2,
       "version_minor": 0
      },
      "text/plain": [
       "Checking group /data_large/a/atrium:   0%|          | 0/1 [00:00<?, ?group/s]"
      ]
     },
     "metadata": {},
     "output_type": "display_data"
    },
    {
     "data": {
      "application/vnd.jupyter.widget-view+json": {
       "model_id": "44679c9d5a34400fb5cda05db8e9d18e",
       "version_major": 2,
       "version_minor": 0
      },
      "text/plain": [
       "Checking group /data_large/a/atrium/public: 0group [00:00, ?group/s]"
      ]
     },
     "metadata": {},
     "output_type": "display_data"
    },
    {
     "data": {
      "application/vnd.jupyter.widget-view+json": {
       "model_id": "ddc722173833402b9c3769ea10beb2b3",
       "version_major": 2,
       "version_minor": 0
      },
      "text/plain": [
       "Checking group /data_large/a/attic: 0group [00:00, ?group/s]"
      ]
     },
     "metadata": {},
     "output_type": "display_data"
    },
    {
     "data": {
      "application/vnd.jupyter.widget-view+json": {
       "model_id": "a6aa89c9c6da4fe987640b49ced097ad",
       "version_major": 2,
       "version_minor": 0
      },
      "text/plain": [
       "Checking group /data_large/a/auditorium: 0group [00:00, ?group/s]"
      ]
     },
     "metadata": {},
     "output_type": "display_data"
    },
    {
     "data": {
      "application/vnd.jupyter.widget-view+json": {
       "model_id": "fcf00759faf74a84b91a061c31f6c847",
       "version_major": 2,
       "version_minor": 0
      },
      "text/plain": [
       "Checking group /data_large/a/auto_factory: 0group [00:00, ?group/s]"
      ]
     },
     "metadata": {},
     "output_type": "display_data"
    },
    {
     "data": {
      "application/vnd.jupyter.widget-view+json": {
       "model_id": "41c2793fcd4f44c191e08c98782ef8b7",
       "version_major": 2,
       "version_minor": 0
      },
      "text/plain": [
       "Checking group /data_large/a/auto_showroom: 0group [00:00, ?group/s]"
      ]
     },
     "metadata": {},
     "output_type": "display_data"
    },
    {
     "data": {
      "application/vnd.jupyter.widget-view+json": {
       "model_id": "22dcf64d87d74f4894b8e43f552eff2a",
       "version_major": 2,
       "version_minor": 0
      },
      "text/plain": [
       "Checking group /data_large/b:   0%|          | 0/42 [00:00<?, ?group/s]"
      ]
     },
     "metadata": {},
     "output_type": "display_data"
    },
    {
     "data": {
      "application/vnd.jupyter.widget-view+json": {
       "model_id": "f418074e0bf1492d8571725b074bbd88",
       "version_major": 2,
       "version_minor": 0
      },
      "text/plain": [
       "Checking group /data_large/b/badlands: 0group [00:00, ?group/s]"
      ]
     },
     "metadata": {},
     "output_type": "display_data"
    },
    {
     "data": {
      "application/vnd.jupyter.widget-view+json": {
       "model_id": "bc52589ba4da4d009a4bcd849528a81c",
       "version_major": 2,
       "version_minor": 0
      },
      "text/plain": [
       "Checking group /data_large/b/bakery:   0%|          | 0/1 [00:00<?, ?group/s]"
      ]
     },
     "metadata": {},
     "output_type": "display_data"
    },
    {
     "data": {
      "application/vnd.jupyter.widget-view+json": {
       "model_id": "b53f8983c2944061be6adae14d21fe1e",
       "version_major": 2,
       "version_minor": 0
      },
      "text/plain": [
       "Checking group /data_large/b/bakery/shop: 0group [00:00, ?group/s]"
      ]
     },
     "metadata": {},
     "output_type": "display_data"
    },
    {
     "data": {
      "application/vnd.jupyter.widget-view+json": {
       "model_id": "1e04bf826bc3419ba48389ce202b3b33",
       "version_major": 2,
       "version_minor": 0
      },
      "text/plain": [
       "Checking group /data_large/b/balcony:   0%|          | 0/2 [00:00<?, ?group/s]"
      ]
     },
     "metadata": {},
     "output_type": "display_data"
    },
    {
     "data": {
      "application/vnd.jupyter.widget-view+json": {
       "model_id": "df4d603901f647f9bca75f26051b4b39",
       "version_major": 2,
       "version_minor": 0
      },
      "text/plain": [
       "Checking group /data_large/b/balcony/exterior: 0group [00:00, ?group/s]"
      ]
     },
     "metadata": {},
     "output_type": "display_data"
    },
    {
     "data": {
      "application/vnd.jupyter.widget-view+json": {
       "model_id": "64650df9528c4bd8b78366fd0d9aeabf",
       "version_major": 2,
       "version_minor": 0
      },
      "text/plain": [
       "Checking group /data_large/b/balcony/interior: 0group [00:00, ?group/s]"
      ]
     },
     "metadata": {},
     "output_type": "display_data"
    },
    {
     "data": {
      "application/vnd.jupyter.widget-view+json": {
       "model_id": "bfc260f878b84885b0ed0234a9b168b7",
       "version_major": 2,
       "version_minor": 0
      },
      "text/plain": [
       "Checking group /data_large/b/ball_pit: 0group [00:00, ?group/s]"
      ]
     },
     "metadata": {},
     "output_type": "display_data"
    },
    {
     "data": {
      "application/vnd.jupyter.widget-view+json": {
       "model_id": "003a5941b7c3426694f2872d7c9a0a95",
       "version_major": 2,
       "version_minor": 0
      },
      "text/plain": [
       "Checking group /data_large/b/ballroom: 0group [00:00, ?group/s]"
      ]
     },
     "metadata": {},
     "output_type": "display_data"
    },
    {
     "data": {
      "application/vnd.jupyter.widget-view+json": {
       "model_id": "cdcd108d844e4c6e819966381c57455c",
       "version_major": 2,
       "version_minor": 0
      },
      "text/plain": [
       "Checking group /data_large/b/bamboo_forest: 0group [00:00, ?group/s]"
      ]
     },
     "metadata": {},
     "output_type": "display_data"
    },
    {
     "data": {
      "application/vnd.jupyter.widget-view+json": {
       "model_id": "7c1a39d5ee09474da23166bfafe23e26",
       "version_major": 2,
       "version_minor": 0
      },
      "text/plain": [
       "Checking group /data_large/b/bank_vault: 0group [00:00, ?group/s]"
      ]
     },
     "metadata": {},
     "output_type": "display_data"
    },
    {
     "data": {
      "application/vnd.jupyter.widget-view+json": {
       "model_id": "ecb95ed38f6248619601f2a73aee7c6c",
       "version_major": 2,
       "version_minor": 0
      },
      "text/plain": [
       "Checking group /data_large/b/banquet_hall: 0group [00:00, ?group/s]"
      ]
     },
     "metadata": {},
     "output_type": "display_data"
    },
    {
     "data": {
      "application/vnd.jupyter.widget-view+json": {
       "model_id": "373b7fd2df9f440ebbae8eda84b3b5aa",
       "version_major": 2,
       "version_minor": 0
      },
      "text/plain": [
       "Checking group /data_large/b/bar: 0group [00:00, ?group/s]"
      ]
     },
     "metadata": {},
     "output_type": "display_data"
    },
    {
     "data": {
      "application/vnd.jupyter.widget-view+json": {
       "model_id": "5de8b9057c7843eb96cd1827e4b29214",
       "version_major": 2,
       "version_minor": 0
      },
      "text/plain": [
       "Checking group /data_large/b/barn: 0group [00:00, ?group/s]"
      ]
     },
     "metadata": {},
     "output_type": "display_data"
    },
    {
     "data": {
      "application/vnd.jupyter.widget-view+json": {
       "model_id": "07bf8201162c44a1b919c77df9cd8bf0",
       "version_major": 2,
       "version_minor": 0
      },
      "text/plain": [
       "Checking group /data_large/b/barndoor: 0group [00:00, ?group/s]"
      ]
     },
     "metadata": {},
     "output_type": "display_data"
    },
    {
     "data": {
      "application/vnd.jupyter.widget-view+json": {
       "model_id": "09a18c584a7c498f9869c317aa0095e5",
       "version_major": 2,
       "version_minor": 0
      },
      "text/plain": [
       "Checking group /data_large/b/baseball_field: 0group [00:00, ?group/s]"
      ]
     },
     "metadata": {},
     "output_type": "display_data"
    },
    {
     "data": {
      "application/vnd.jupyter.widget-view+json": {
       "model_id": "e91b7d33b55b4e6dafd8595962fe5417",
       "version_major": 2,
       "version_minor": 0
      },
      "text/plain": [
       "Checking group /data_large/b/basement: 0group [00:00, ?group/s]"
      ]
     },
     "metadata": {},
     "output_type": "display_data"
    },
    {
     "data": {
      "application/vnd.jupyter.widget-view+json": {
       "model_id": "69c10bda3bb04e8884d83ea6ec81dcc1",
       "version_major": 2,
       "version_minor": 0
      },
      "text/plain": [
       "Checking group /data_large/b/basketball_court:   0%|          | 0/1 [00:00<?, ?group/s]"
      ]
     },
     "metadata": {},
     "output_type": "display_data"
    },
    {
     "data": {
      "application/vnd.jupyter.widget-view+json": {
       "model_id": "0dc3db3c84b64c2491d89f86cafbd64c",
       "version_major": 2,
       "version_minor": 0
      },
      "text/plain": [
       "Checking group /data_large/b/basketball_court/indoor: 0group [00:00, ?group/s]"
      ]
     },
     "metadata": {},
     "output_type": "display_data"
    },
    {
     "data": {
      "application/vnd.jupyter.widget-view+json": {
       "model_id": "8e0f39fdffc249f6ae7ff504dd1c6ef5",
       "version_major": 2,
       "version_minor": 0
      },
      "text/plain": [
       "Checking group /data_large/b/bathroom: 0group [00:00, ?group/s]"
      ]
     },
     "metadata": {},
     "output_type": "display_data"
    },
    {
     "data": {
      "application/vnd.jupyter.widget-view+json": {
       "model_id": "d15b9061b04540feb8d735eb40651c60",
       "version_major": 2,
       "version_minor": 0
      },
      "text/plain": [
       "Checking group /data_large/b/bazaar:   0%|          | 0/2 [00:00<?, ?group/s]"
      ]
     },
     "metadata": {},
     "output_type": "display_data"
    },
    {
     "data": {
      "application/vnd.jupyter.widget-view+json": {
       "model_id": "40ec6d4562c440b381ea83bca21129b8",
       "version_major": 2,
       "version_minor": 0
      },
      "text/plain": [
       "Checking group /data_large/b/bazaar/indoor: 0group [00:00, ?group/s]"
      ]
     },
     "metadata": {},
     "output_type": "display_data"
    },
    {
     "data": {
      "application/vnd.jupyter.widget-view+json": {
       "model_id": "d0bfc0c372ca490f9d7981103f0ce884",
       "version_major": 2,
       "version_minor": 0
      },
      "text/plain": [
       "Checking group /data_large/b/bazaar/outdoor: 0group [00:00, ?group/s]"
      ]
     },
     "metadata": {},
     "output_type": "display_data"
    },
    {
     "data": {
      "application/vnd.jupyter.widget-view+json": {
       "model_id": "d53494bfddb44958b989fc4780ba38a0",
       "version_major": 2,
       "version_minor": 0
      },
      "text/plain": [
       "Checking group /data_large/b/beach: 0group [00:00, ?group/s]"
      ]
     },
     "metadata": {},
     "output_type": "display_data"
    },
    {
     "data": {
      "application/vnd.jupyter.widget-view+json": {
       "model_id": "ed4ddffbd70145b0a0973961c65abdd7",
       "version_major": 2,
       "version_minor": 0
      },
      "text/plain": [
       "Checking group /data_large/b/beach_house: 0group [00:00, ?group/s]"
      ]
     },
     "metadata": {},
     "output_type": "display_data"
    },
    {
     "data": {
      "application/vnd.jupyter.widget-view+json": {
       "model_id": "c68f229d43c547c9a88d04f9ad7b851e",
       "version_major": 2,
       "version_minor": 0
      },
      "text/plain": [
       "Checking group /data_large/b/beauty_salon: 0group [00:00, ?group/s]"
      ]
     },
     "metadata": {},
     "output_type": "display_data"
    },
    {
     "data": {
      "application/vnd.jupyter.widget-view+json": {
       "model_id": "ca2f67d8d75a4554ba7842520ff97f48",
       "version_major": 2,
       "version_minor": 0
      },
      "text/plain": [
       "Checking group /data_large/b/bedchamber: 0group [00:00, ?group/s]"
      ]
     },
     "metadata": {},
     "output_type": "display_data"
    },
    {
     "data": {
      "application/vnd.jupyter.widget-view+json": {
       "model_id": "9552982f619c48ac86c60ab37772fccd",
       "version_major": 2,
       "version_minor": 0
      },
      "text/plain": [
       "Checking group /data_large/b/bedroom: 0group [00:00, ?group/s]"
      ]
     },
     "metadata": {},
     "output_type": "display_data"
    },
    {
     "data": {
      "application/vnd.jupyter.widget-view+json": {
       "model_id": "903b0ccf521f44af9f7373db9e956c8d",
       "version_major": 2,
       "version_minor": 0
      },
      "text/plain": [
       "Checking group /data_large/b/beer_garden: 0group [00:00, ?group/s]"
      ]
     },
     "metadata": {},
     "output_type": "display_data"
    },
    {
     "data": {
      "application/vnd.jupyter.widget-view+json": {
       "model_id": "a9d2deb287374181a3e7f78bb8c2d198",
       "version_major": 2,
       "version_minor": 0
      },
      "text/plain": [
       "Checking group /data_large/b/beer_hall: 0group [00:00, ?group/s]"
      ]
     },
     "metadata": {},
     "output_type": "display_data"
    },
    {
     "data": {
      "application/vnd.jupyter.widget-view+json": {
       "model_id": "6b72ea10ff344c48810739e3164db82f",
       "version_major": 2,
       "version_minor": 0
      },
      "text/plain": [
       "Checking group /data_large/b/berth: 0group [00:00, ?group/s]"
      ]
     },
     "metadata": {},
     "output_type": "display_data"
    },
    {
     "data": {
      "application/vnd.jupyter.widget-view+json": {
       "model_id": "bcedcde9ae3745bc81ec4396a708884e",
       "version_major": 2,
       "version_minor": 0
      },
      "text/plain": [
       "Checking group /data_large/b/biology_laboratory: 0group [00:00, ?group/s]"
      ]
     },
     "metadata": {},
     "output_type": "display_data"
    },
    {
     "data": {
      "application/vnd.jupyter.widget-view+json": {
       "model_id": "db978244aef64524b3a20b560c4a3fac",
       "version_major": 2,
       "version_minor": 0
      },
      "text/plain": [
       "Checking group /data_large/b/boardwalk: 0group [00:00, ?group/s]"
      ]
     },
     "metadata": {},
     "output_type": "display_data"
    },
    {
     "data": {
      "application/vnd.jupyter.widget-view+json": {
       "model_id": "28e6d69507004140807a21a079fdb5d0",
       "version_major": 2,
       "version_minor": 0
      },
      "text/plain": [
       "Checking group /data_large/b/boat_deck: 0group [00:00, ?group/s]"
      ]
     },
     "metadata": {},
     "output_type": "display_data"
    },
    {
     "data": {
      "application/vnd.jupyter.widget-view+json": {
       "model_id": "3a138c32971b4c6ea8cdc6ed8aadaf00",
       "version_major": 2,
       "version_minor": 0
      },
      "text/plain": [
       "Checking group /data_large/b/boathouse: 0group [00:00, ?group/s]"
      ]
     },
     "metadata": {},
     "output_type": "display_data"
    },
    {
     "data": {
      "application/vnd.jupyter.widget-view+json": {
       "model_id": "9e5dc6d07e4e4051b9da029615ed541b",
       "version_major": 2,
       "version_minor": 0
      },
      "text/plain": [
       "Checking group /data_large/b/bookstore: 0group [00:00, ?group/s]"
      ]
     },
     "metadata": {},
     "output_type": "display_data"
    },
    {
     "data": {
      "application/vnd.jupyter.widget-view+json": {
       "model_id": "4802338e4ebf4d39bb62e2b936a03e16",
       "version_major": 2,
       "version_minor": 0
      },
      "text/plain": [
       "Checking group /data_large/b/booth:   0%|          | 0/1 [00:00<?, ?group/s]"
      ]
     },
     "metadata": {},
     "output_type": "display_data"
    },
    {
     "data": {
      "application/vnd.jupyter.widget-view+json": {
       "model_id": "871aa675e8fb4900bc62cc4c33f9c908",
       "version_major": 2,
       "version_minor": 0
      },
      "text/plain": [
       "Checking group /data_large/b/booth/indoor: 0group [00:00, ?group/s]"
      ]
     },
     "metadata": {},
     "output_type": "display_data"
    },
    {
     "data": {
      "application/vnd.jupyter.widget-view+json": {
       "model_id": "cf6944768ed4464aa5b45c0678ff9cfb",
       "version_major": 2,
       "version_minor": 0
      },
      "text/plain": [
       "Checking group /data_large/b/botanical_garden: 0group [00:00, ?group/s]"
      ]
     },
     "metadata": {},
     "output_type": "display_data"
    },
    {
     "data": {
      "application/vnd.jupyter.widget-view+json": {
       "model_id": "5c0fe41098e348bbad6633690c1797c7",
       "version_major": 2,
       "version_minor": 0
      },
      "text/plain": [
       "Checking group /data_large/b/bow_window:   0%|          | 0/1 [00:00<?, ?group/s]"
      ]
     },
     "metadata": {},
     "output_type": "display_data"
    },
    {
     "data": {
      "application/vnd.jupyter.widget-view+json": {
       "model_id": "7e77234e4c674306b16dd2ad9e04f4b6",
       "version_major": 2,
       "version_minor": 0
      },
      "text/plain": [
       "Checking group /data_large/b/bow_window/indoor: 0group [00:00, ?group/s]"
      ]
     },
     "metadata": {},
     "output_type": "display_data"
    },
    {
     "data": {
      "application/vnd.jupyter.widget-view+json": {
       "model_id": "5c05724181014d10b472f61363720c0d",
       "version_major": 2,
       "version_minor": 0
      },
      "text/plain": [
       "Checking group /data_large/b/bowling_alley: 0group [00:00, ?group/s]"
      ]
     },
     "metadata": {},
     "output_type": "display_data"
    },
    {
     "data": {
      "application/vnd.jupyter.widget-view+json": {
       "model_id": "226a8357eec14e41bdedba7f312be089",
       "version_major": 2,
       "version_minor": 0
      },
      "text/plain": [
       "Checking group /data_large/b/boxing_ring: 0group [00:00, ?group/s]"
      ]
     },
     "metadata": {},
     "output_type": "display_data"
    },
    {
     "data": {
      "application/vnd.jupyter.widget-view+json": {
       "model_id": "5513fc30e1a74f868f0c4d4428ca1488",
       "version_major": 2,
       "version_minor": 0
      },
      "text/plain": [
       "Checking group /data_large/b/bridge: 0group [00:00, ?group/s]"
      ]
     },
     "metadata": {},
     "output_type": "display_data"
    },
    {
     "data": {
      "application/vnd.jupyter.widget-view+json": {
       "model_id": "94c8585b9de04589b69022e621ae71b0",
       "version_major": 2,
       "version_minor": 0
      },
      "text/plain": [
       "Checking group /data_large/b/building_facade: 0group [00:00, ?group/s]"
      ]
     },
     "metadata": {},
     "output_type": "display_data"
    },
    {
     "data": {
      "application/vnd.jupyter.widget-view+json": {
       "model_id": "adfbb36d997243febbc41b822639a754",
       "version_major": 2,
       "version_minor": 0
      },
      "text/plain": [
       "Checking group /data_large/b/bullring: 0group [00:00, ?group/s]"
      ]
     },
     "metadata": {},
     "output_type": "display_data"
    },
    {
     "data": {
      "application/vnd.jupyter.widget-view+json": {
       "model_id": "98ef951a34cc4a999d0cb8150594dd1d",
       "version_major": 2,
       "version_minor": 0
      },
      "text/plain": [
       "Checking group /data_large/b/burial_chamber: 0group [00:00, ?group/s]"
      ]
     },
     "metadata": {},
     "output_type": "display_data"
    },
    {
     "data": {
      "application/vnd.jupyter.widget-view+json": {
       "model_id": "5ffa7e0a0ddb4e0899fa4f19807c2d2d",
       "version_major": 2,
       "version_minor": 0
      },
      "text/plain": [
       "Checking group /data_large/b/bus_interior: 0group [00:00, ?group/s]"
      ]
     },
     "metadata": {},
     "output_type": "display_data"
    },
    {
     "data": {
      "application/vnd.jupyter.widget-view+json": {
       "model_id": "e7a573a281d34950bab78b8e5873b7cd",
       "version_major": 2,
       "version_minor": 0
      },
      "text/plain": [
       "Checking group /data_large/b/bus_station:   0%|          | 0/1 [00:00<?, ?group/s]"
      ]
     },
     "metadata": {},
     "output_type": "display_data"
    },
    {
     "data": {
      "application/vnd.jupyter.widget-view+json": {
       "model_id": "748918090f404572883c8ad7649cad62",
       "version_major": 2,
       "version_minor": 0
      },
      "text/plain": [
       "Checking group /data_large/b/bus_station/indoor: 0group [00:00, ?group/s]"
      ]
     },
     "metadata": {},
     "output_type": "display_data"
    },
    {
     "data": {
      "application/vnd.jupyter.widget-view+json": {
       "model_id": "a29be065a4644b1bb4b2c2718dc8997b",
       "version_major": 2,
       "version_minor": 0
      },
      "text/plain": [
       "Checking group /data_large/b/butchers_shop: 0group [00:00, ?group/s]"
      ]
     },
     "metadata": {},
     "output_type": "display_data"
    },
    {
     "data": {
      "application/vnd.jupyter.widget-view+json": {
       "model_id": "0e550c983c6d48deb84f0821fafec340",
       "version_major": 2,
       "version_minor": 0
      },
      "text/plain": [
       "Checking group /data_large/b/butte: 0group [00:00, ?group/s]"
      ]
     },
     "metadata": {},
     "output_type": "display_data"
    },
    {
     "data": {
      "application/vnd.jupyter.widget-view+json": {
       "model_id": "54858ec232924e249788fb925a8b818d",
       "version_major": 2,
       "version_minor": 0
      },
      "text/plain": [
       "Checking group /data_large/c:   0%|          | 0/37 [00:00<?, ?group/s]"
      ]
     },
     "metadata": {},
     "output_type": "display_data"
    },
    {
     "data": {
      "application/vnd.jupyter.widget-view+json": {
       "model_id": "7ec3ba66083a47dea4238ea8766a7a52",
       "version_major": 2,
       "version_minor": 0
      },
      "text/plain": [
       "Checking group /data_large/c/cabin:   0%|          | 0/1 [00:00<?, ?group/s]"
      ]
     },
     "metadata": {},
     "output_type": "display_data"
    },
    {
     "data": {
      "application/vnd.jupyter.widget-view+json": {
       "model_id": "a30a14c88bb84d5b9da993e48fd7905a",
       "version_major": 2,
       "version_minor": 0
      },
      "text/plain": [
       "Checking group /data_large/c/cabin/outdoor: 0group [00:00, ?group/s]"
      ]
     },
     "metadata": {},
     "output_type": "display_data"
    },
    {
     "data": {
      "application/vnd.jupyter.widget-view+json": {
       "model_id": "5208314f49b943cc833e81544b124a6b",
       "version_major": 2,
       "version_minor": 0
      },
      "text/plain": [
       "Checking group /data_large/c/cafeteria: 0group [00:00, ?group/s]"
      ]
     },
     "metadata": {},
     "output_type": "display_data"
    },
    {
     "data": {
      "application/vnd.jupyter.widget-view+json": {
       "model_id": "0b61bc4c986e47a2b04cff38ef677381",
       "version_major": 2,
       "version_minor": 0
      },
      "text/plain": [
       "Checking group /data_large/c/campsite: 0group [00:00, ?group/s]"
      ]
     },
     "metadata": {},
     "output_type": "display_data"
    },
    {
     "data": {
      "application/vnd.jupyter.widget-view+json": {
       "model_id": "1f2e3f8b10904611830d7991b7b240b0",
       "version_major": 2,
       "version_minor": 0
      },
      "text/plain": [
       "Checking group /data_large/c/campus: 0group [00:00, ?group/s]"
      ]
     },
     "metadata": {},
     "output_type": "display_data"
    },
    {
     "data": {
      "application/vnd.jupyter.widget-view+json": {
       "model_id": "1f604812b82b41aa995bce20e3f1fab4",
       "version_major": 2,
       "version_minor": 0
      },
      "text/plain": [
       "Checking group /data_large/c/canal:   0%|          | 0/2 [00:00<?, ?group/s]"
      ]
     },
     "metadata": {},
     "output_type": "display_data"
    },
    {
     "data": {
      "application/vnd.jupyter.widget-view+json": {
       "model_id": "71c6a98b1fec4c26987557bf70362a7c",
       "version_major": 2,
       "version_minor": 0
      },
      "text/plain": [
       "Checking group /data_large/c/canal/natural: 0group [00:00, ?group/s]"
      ]
     },
     "metadata": {},
     "output_type": "display_data"
    },
    {
     "data": {
      "application/vnd.jupyter.widget-view+json": {
       "model_id": "54f330fa55264bd68466b1957457d68b",
       "version_major": 2,
       "version_minor": 0
      },
      "text/plain": [
       "Checking group /data_large/c/canal/urban: 0group [00:00, ?group/s]"
      ]
     },
     "metadata": {},
     "output_type": "display_data"
    },
    {
     "data": {
      "application/vnd.jupyter.widget-view+json": {
       "model_id": "5beb2c5c5c7441e5a3cfb3ece79db17e",
       "version_major": 2,
       "version_minor": 0
      },
      "text/plain": [
       "Checking group /data_large/c/candy_store: 0group [00:00, ?group/s]"
      ]
     },
     "metadata": {},
     "output_type": "display_data"
    },
    {
     "data": {
      "application/vnd.jupyter.widget-view+json": {
       "model_id": "6971ffd2305d4e7bb3a41685dd14942e",
       "version_major": 2,
       "version_minor": 0
      },
      "text/plain": [
       "Checking group /data_large/c/canyon: 0group [00:00, ?group/s]"
      ]
     },
     "metadata": {},
     "output_type": "display_data"
    },
    {
     "data": {
      "application/vnd.jupyter.widget-view+json": {
       "model_id": "ea1f5bcb9dfa447eb0f43856cfd52413",
       "version_major": 2,
       "version_minor": 0
      },
      "text/plain": [
       "Checking group /data_large/c/car_interior: 0group [00:00, ?group/s]"
      ]
     },
     "metadata": {},
     "output_type": "display_data"
    },
    {
     "data": {
      "application/vnd.jupyter.widget-view+json": {
       "model_id": "7c7bd52351c74cafa76366b0641a09f0",
       "version_major": 2,
       "version_minor": 0
      },
      "text/plain": [
       "Checking group /data_large/c/carrousel: 0group [00:00, ?group/s]"
      ]
     },
     "metadata": {},
     "output_type": "display_data"
    },
    {
     "data": {
      "application/vnd.jupyter.widget-view+json": {
       "model_id": "ee6bd0ac92ae4cceb1fac5a301f3fb52",
       "version_major": 2,
       "version_minor": 0
      },
      "text/plain": [
       "Checking group /data_large/c/castle: 0group [00:00, ?group/s]"
      ]
     },
     "metadata": {},
     "output_type": "display_data"
    },
    {
     "data": {
      "application/vnd.jupyter.widget-view+json": {
       "model_id": "5883a61e829d4bcca4cb58ad5db54394",
       "version_major": 2,
       "version_minor": 0
      },
      "text/plain": [
       "Checking group /data_large/c/catacomb: 0group [00:00, ?group/s]"
      ]
     },
     "metadata": {},
     "output_type": "display_data"
    },
    {
     "data": {
      "application/vnd.jupyter.widget-view+json": {
       "model_id": "e1604f94172a45e2a85494e00af1dd61",
       "version_major": 2,
       "version_minor": 0
      },
      "text/plain": [
       "Checking group /data_large/c/cemetery: 0group [00:00, ?group/s]"
      ]
     },
     "metadata": {},
     "output_type": "display_data"
    },
    {
     "data": {
      "application/vnd.jupyter.widget-view+json": {
       "model_id": "7b91f998d56d41c0a890e0159d2148f0",
       "version_major": 2,
       "version_minor": 0
      },
      "text/plain": [
       "Checking group /data_large/c/chalet: 0group [00:00, ?group/s]"
      ]
     },
     "metadata": {},
     "output_type": "display_data"
    },
    {
     "data": {
      "application/vnd.jupyter.widget-view+json": {
       "model_id": "2e42f897950b4d31b0ff202863cd0baf",
       "version_major": 2,
       "version_minor": 0
      },
      "text/plain": [
       "Checking group /data_large/c/chemistry_lab: 0group [00:00, ?group/s]"
      ]
     },
     "metadata": {},
     "output_type": "display_data"
    },
    {
     "data": {
      "application/vnd.jupyter.widget-view+json": {
       "model_id": "571e588c4e5c4c1987a54b04aa133698",
       "version_major": 2,
       "version_minor": 0
      },
      "text/plain": [
       "Checking group /data_large/c/childs_room: 0group [00:00, ?group/s]"
      ]
     },
     "metadata": {},
     "output_type": "display_data"
    },
    {
     "data": {
      "application/vnd.jupyter.widget-view+json": {
       "model_id": "04586efb895c4d9e9cf2aafeb33a83c0",
       "version_major": 2,
       "version_minor": 0
      },
      "text/plain": [
       "Checking group /data_large/c/church:   0%|          | 0/2 [00:00<?, ?group/s]"
      ]
     },
     "metadata": {},
     "output_type": "display_data"
    },
    {
     "data": {
      "application/vnd.jupyter.widget-view+json": {
       "model_id": "75b40d7910204af38189ecda53e0c551",
       "version_major": 2,
       "version_minor": 0
      },
      "text/plain": [
       "Checking group /data_large/c/church/indoor: 0group [00:00, ?group/s]"
      ]
     },
     "metadata": {},
     "output_type": "display_data"
    },
    {
     "data": {
      "application/vnd.jupyter.widget-view+json": {
       "model_id": "14ee1f913b3e4d219714494d3c8f9dc5",
       "version_major": 2,
       "version_minor": 0
      },
      "text/plain": [
       "Checking group /data_large/c/church/outdoor: 0group [00:00, ?group/s]"
      ]
     },
     "metadata": {},
     "output_type": "display_data"
    },
    {
     "data": {
      "application/vnd.jupyter.widget-view+json": {
       "model_id": "ba94e3bf6ef0400abfa28a59b6f44c04",
       "version_major": 2,
       "version_minor": 0
      },
      "text/plain": [
       "Checking group /data_large/c/classroom: 0group [00:00, ?group/s]"
      ]
     },
     "metadata": {},
     "output_type": "display_data"
    },
    {
     "data": {
      "application/vnd.jupyter.widget-view+json": {
       "model_id": "5ce11fd1ea35454db0f4e852a1dbc698",
       "version_major": 2,
       "version_minor": 0
      },
      "text/plain": [
       "Checking group /data_large/c/clean_room: 0group [00:00, ?group/s]"
      ]
     },
     "metadata": {},
     "output_type": "display_data"
    },
    {
     "data": {
      "application/vnd.jupyter.widget-view+json": {
       "model_id": "3d26083b6220417dafa8c476e0e234d0",
       "version_major": 2,
       "version_minor": 0
      },
      "text/plain": [
       "Checking group /data_large/c/cliff: 0group [00:00, ?group/s]"
      ]
     },
     "metadata": {},
     "output_type": "display_data"
    },
    {
     "data": {
      "application/vnd.jupyter.widget-view+json": {
       "model_id": "9a4d1bec4a0c439c8f8904b260275f1f",
       "version_major": 2,
       "version_minor": 0
      },
      "text/plain": [
       "Checking group /data_large/c/closet: 0group [00:00, ?group/s]"
      ]
     },
     "metadata": {},
     "output_type": "display_data"
    },
    {
     "data": {
      "application/vnd.jupyter.widget-view+json": {
       "model_id": "beb6e9b6dcb14a78861d7b2286573669",
       "version_major": 2,
       "version_minor": 0
      },
      "text/plain": [
       "Checking group /data_large/c/clothing_store: 0group [00:00, ?group/s]"
      ]
     },
     "metadata": {},
     "output_type": "display_data"
    },
    {
     "data": {
      "application/vnd.jupyter.widget-view+json": {
       "model_id": "f344b55405154e01879b6a2a4373b4c2",
       "version_major": 2,
       "version_minor": 0
      },
      "text/plain": [
       "Checking group /data_large/c/coast: 0group [00:00, ?group/s]"
      ]
     },
     "metadata": {},
     "output_type": "display_data"
    },
    {
     "data": {
      "application/vnd.jupyter.widget-view+json": {
       "model_id": "03c164cbb5d245ba9df06673ebebdd0e",
       "version_major": 2,
       "version_minor": 0
      },
      "text/plain": [
       "Checking group /data_large/c/cockpit: 0group [00:00, ?group/s]"
      ]
     },
     "metadata": {},
     "output_type": "display_data"
    },
    {
     "data": {
      "application/vnd.jupyter.widget-view+json": {
       "model_id": "9dc8828a49f34c7cbcecfd5939819e8b",
       "version_major": 2,
       "version_minor": 0
      },
      "text/plain": [
       "Checking group /data_large/c/coffee_shop: 0group [00:00, ?group/s]"
      ]
     },
     "metadata": {},
     "output_type": "display_data"
    },
    {
     "data": {
      "application/vnd.jupyter.widget-view+json": {
       "model_id": "c3b519980baf47c7998393a6d0851289",
       "version_major": 2,
       "version_minor": 0
      },
      "text/plain": [
       "Checking group /data_large/c/computer_room: 0group [00:00, ?group/s]"
      ]
     },
     "metadata": {},
     "output_type": "display_data"
    },
    {
     "data": {
      "application/vnd.jupyter.widget-view+json": {
       "model_id": "137a1692061a409aa8f715cd66ef4e1e",
       "version_major": 2,
       "version_minor": 0
      },
      "text/plain": [
       "Checking group /data_large/c/conference_center: 0group [00:00, ?group/s]"
      ]
     },
     "metadata": {},
     "output_type": "display_data"
    },
    {
     "data": {
      "application/vnd.jupyter.widget-view+json": {
       "model_id": "3ba1c293036044c494993c1ba57347de",
       "version_major": 2,
       "version_minor": 0
      },
      "text/plain": [
       "Checking group /data_large/c/conference_room: 0group [00:00, ?group/s]"
      ]
     },
     "metadata": {},
     "output_type": "display_data"
    },
    {
     "data": {
      "application/vnd.jupyter.widget-view+json": {
       "model_id": "dbb2c75d3af44a66bb1e9fdb5cd6eae7",
       "version_major": 2,
       "version_minor": 0
      },
      "text/plain": [
       "Checking group /data_large/c/construction_site: 0group [00:00, ?group/s]"
      ]
     },
     "metadata": {},
     "output_type": "display_data"
    },
    {
     "data": {
      "application/vnd.jupyter.widget-view+json": {
       "model_id": "e39a6959a2aa4967949c7a006a7a2bf3",
       "version_major": 2,
       "version_minor": 0
      },
      "text/plain": [
       "Checking group /data_large/c/corn_field: 0group [00:00, ?group/s]"
      ]
     },
     "metadata": {},
     "output_type": "display_data"
    },
    {
     "data": {
      "application/vnd.jupyter.widget-view+json": {
       "model_id": "176e197b82c344b7b47995db4e6c322a",
       "version_major": 2,
       "version_minor": 0
      },
      "text/plain": [
       "Checking group /data_large/c/corral: 0group [00:00, ?group/s]"
      ]
     },
     "metadata": {},
     "output_type": "display_data"
    },
    {
     "data": {
      "application/vnd.jupyter.widget-view+json": {
       "model_id": "621e56b4064242de855a14ac3aabd47f",
       "version_major": 2,
       "version_minor": 0
      },
      "text/plain": [
       "Checking group /data_large/c/corridor: 0group [00:00, ?group/s]"
      ]
     },
     "metadata": {},
     "output_type": "display_data"
    },
    {
     "data": {
      "application/vnd.jupyter.widget-view+json": {
       "model_id": "e8c0fd7d9115404bad894afb98b8007d",
       "version_major": 2,
       "version_minor": 0
      },
      "text/plain": [
       "Checking group /data_large/c/cottage: 0group [00:00, ?group/s]"
      ]
     },
     "metadata": {},
     "output_type": "display_data"
    },
    {
     "data": {
      "application/vnd.jupyter.widget-view+json": {
       "model_id": "3831e33c2bb747e4889036f109e4998e",
       "version_major": 2,
       "version_minor": 0
      },
      "text/plain": [
       "Checking group /data_large/c/courthouse: 0group [00:00, ?group/s]"
      ]
     },
     "metadata": {},
     "output_type": "display_data"
    },
    {
     "data": {
      "application/vnd.jupyter.widget-view+json": {
       "model_id": "0f4df9a90a8048548571965230ae0379",
       "version_major": 2,
       "version_minor": 0
      },
      "text/plain": [
       "Checking group /data_large/c/courtyard: 0group [00:00, ?group/s]"
      ]
     },
     "metadata": {},
     "output_type": "display_data"
    },
    {
     "data": {
      "application/vnd.jupyter.widget-view+json": {
       "model_id": "8ecca309afee43529c5064f960281b4a",
       "version_major": 2,
       "version_minor": 0
      },
      "text/plain": [
       "Checking group /data_large/c/creek: 0group [00:00, ?group/s]"
      ]
     },
     "metadata": {},
     "output_type": "display_data"
    },
    {
     "data": {
      "application/vnd.jupyter.widget-view+json": {
       "model_id": "2653540f02b340819e81da5f214ce486",
       "version_major": 2,
       "version_minor": 0
      },
      "text/plain": [
       "Checking group /data_large/c/crevasse: 0group [00:00, ?group/s]"
      ]
     },
     "metadata": {},
     "output_type": "display_data"
    },
    {
     "data": {
      "application/vnd.jupyter.widget-view+json": {
       "model_id": "2e571bebdebf4498b55d129b5faa059c",
       "version_major": 2,
       "version_minor": 0
      },
      "text/plain": [
       "Checking group /data_large/c/crosswalk: 0group [00:00, ?group/s]"
      ]
     },
     "metadata": {},
     "output_type": "display_data"
    },
    {
     "data": {
      "application/vnd.jupyter.widget-view+json": {
       "model_id": "2c1a94b9d0f34f0481e479275a32c300",
       "version_major": 2,
       "version_minor": 0
      },
      "text/plain": [
       "Checking group /data_large/d:   0%|          | 0/15 [00:00<?, ?group/s]"
      ]
     },
     "metadata": {},
     "output_type": "display_data"
    },
    {
     "data": {
      "application/vnd.jupyter.widget-view+json": {
       "model_id": "d63f7e702a2445bba2300e124e094a9c",
       "version_major": 2,
       "version_minor": 0
      },
      "text/plain": [
       "Checking group /data_large/d/dam: 0group [00:00, ?group/s]"
      ]
     },
     "metadata": {},
     "output_type": "display_data"
    },
    {
     "data": {
      "application/vnd.jupyter.widget-view+json": {
       "model_id": "56edb84cb5a3473a90c0da32c9781e5e",
       "version_major": 2,
       "version_minor": 0
      },
      "text/plain": [
       "Checking group /data_large/d/delicatessen: 0group [00:00, ?group/s]"
      ]
     },
     "metadata": {},
     "output_type": "display_data"
    },
    {
     "data": {
      "application/vnd.jupyter.widget-view+json": {
       "model_id": "02013155ad9241958aff7e85d95f1084",
       "version_major": 2,
       "version_minor": 0
      },
      "text/plain": [
       "Checking group /data_large/d/department_store: 0group [00:00, ?group/s]"
      ]
     },
     "metadata": {},
     "output_type": "display_data"
    },
    {
     "data": {
      "application/vnd.jupyter.widget-view+json": {
       "model_id": "3e8cf5e9814c46749e69b1be5433e047",
       "version_major": 2,
       "version_minor": 0
      },
      "text/plain": [
       "Checking group /data_large/d/desert:   0%|          | 0/2 [00:00<?, ?group/s]"
      ]
     },
     "metadata": {},
     "output_type": "display_data"
    },
    {
     "data": {
      "application/vnd.jupyter.widget-view+json": {
       "model_id": "b3dd9d01012045c08a6610e62ec04617",
       "version_major": 2,
       "version_minor": 0
      },
      "text/plain": [
       "Checking group /data_large/d/desert/sand: 0group [00:00, ?group/s]"
      ]
     },
     "metadata": {},
     "output_type": "display_data"
    },
    {
     "data": {
      "application/vnd.jupyter.widget-view+json": {
       "model_id": "b01f4f9a9dca4a8c88ddd184eb1116f1",
       "version_major": 2,
       "version_minor": 0
      },
      "text/plain": [
       "Checking group /data_large/d/desert/vegetation: 0group [00:00, ?group/s]"
      ]
     },
     "metadata": {},
     "output_type": "display_data"
    },
    {
     "data": {
      "application/vnd.jupyter.widget-view+json": {
       "model_id": "ce1e25c8929749c28a41660c523915b9",
       "version_major": 2,
       "version_minor": 0
      },
      "text/plain": [
       "Checking group /data_large/d/desert_road: 0group [00:00, ?group/s]"
      ]
     },
     "metadata": {},
     "output_type": "display_data"
    },
    {
     "data": {
      "application/vnd.jupyter.widget-view+json": {
       "model_id": "73952072975749ba85e25be3c7a6b50c",
       "version_major": 2,
       "version_minor": 0
      },
      "text/plain": [
       "Checking group /data_large/d/diner:   0%|          | 0/1 [00:00<?, ?group/s]"
      ]
     },
     "metadata": {},
     "output_type": "display_data"
    },
    {
     "data": {
      "application/vnd.jupyter.widget-view+json": {
       "model_id": "1bcc23f3085741979874d34749a536f3",
       "version_major": 2,
       "version_minor": 0
      },
      "text/plain": [
       "Checking group /data_large/d/diner/outdoor: 0group [00:00, ?group/s]"
      ]
     },
     "metadata": {},
     "output_type": "display_data"
    },
    {
     "data": {
      "application/vnd.jupyter.widget-view+json": {
       "model_id": "3426b61136c645beb13c8a5e9dd0178a",
       "version_major": 2,
       "version_minor": 0
      },
      "text/plain": [
       "Checking group /data_large/d/dining_hall: 0group [00:00, ?group/s]"
      ]
     },
     "metadata": {},
     "output_type": "display_data"
    },
    {
     "data": {
      "application/vnd.jupyter.widget-view+json": {
       "model_id": "46163293aa3140a6ab5741dec184c99e",
       "version_major": 2,
       "version_minor": 0
      },
      "text/plain": [
       "Checking group /data_large/d/dining_room: 0group [00:00, ?group/s]"
      ]
     },
     "metadata": {},
     "output_type": "display_data"
    },
    {
     "data": {
      "application/vnd.jupyter.widget-view+json": {
       "model_id": "15d89918d6564c0ea2720dfdbdb1321e",
       "version_major": 2,
       "version_minor": 0
      },
      "text/plain": [
       "Checking group /data_large/d/discotheque: 0group [00:00, ?group/s]"
      ]
     },
     "metadata": {},
     "output_type": "display_data"
    },
    {
     "data": {
      "application/vnd.jupyter.widget-view+json": {
       "model_id": "c5a02cfc15a04b68a6b9b11ce242c67e",
       "version_major": 2,
       "version_minor": 0
      },
      "text/plain": [
       "Checking group /data_large/d/doorway:   0%|          | 0/1 [00:00<?, ?group/s]"
      ]
     },
     "metadata": {},
     "output_type": "display_data"
    },
    {
     "data": {
      "application/vnd.jupyter.widget-view+json": {
       "model_id": "98025cce7e704aa897c5a55af82dcd2c",
       "version_major": 2,
       "version_minor": 0
      },
      "text/plain": [
       "Checking group /data_large/d/doorway/outdoor: 0group [00:00, ?group/s]"
      ]
     },
     "metadata": {},
     "output_type": "display_data"
    },
    {
     "data": {
      "application/vnd.jupyter.widget-view+json": {
       "model_id": "b0cab58c26254b92a1d5e1e4719b59f4",
       "version_major": 2,
       "version_minor": 0
      },
      "text/plain": [
       "Checking group /data_large/d/dorm_room: 0group [00:00, ?group/s]"
      ]
     },
     "metadata": {},
     "output_type": "display_data"
    },
    {
     "data": {
      "application/vnd.jupyter.widget-view+json": {
       "model_id": "263271cd9b4a4fc3b750601aa7ae997f",
       "version_major": 2,
       "version_minor": 0
      },
      "text/plain": [
       "Checking group /data_large/d/downtown: 0group [00:00, ?group/s]"
      ]
     },
     "metadata": {},
     "output_type": "display_data"
    },
    {
     "data": {
      "application/vnd.jupyter.widget-view+json": {
       "model_id": "b012c33eb5bf4756a98d716c5b8b5d36",
       "version_major": 2,
       "version_minor": 0
      },
      "text/plain": [
       "Checking group /data_large/d/dressing_room: 0group [00:00, ?group/s]"
      ]
     },
     "metadata": {},
     "output_type": "display_data"
    },
    {
     "data": {
      "application/vnd.jupyter.widget-view+json": {
       "model_id": "fb1ad01e619d48c9b60af92e08662e28",
       "version_major": 2,
       "version_minor": 0
      },
      "text/plain": [
       "Checking group /data_large/d/driveway: 0group [00:00, ?group/s]"
      ]
     },
     "metadata": {},
     "output_type": "display_data"
    },
    {
     "data": {
      "application/vnd.jupyter.widget-view+json": {
       "model_id": "654704fb47294c679deb0284a3f26558",
       "version_major": 2,
       "version_minor": 0
      },
      "text/plain": [
       "Checking group /data_large/d/drugstore: 0group [00:00, ?group/s]"
      ]
     },
     "metadata": {},
     "output_type": "display_data"
    },
    {
     "data": {
      "application/vnd.jupyter.widget-view+json": {
       "model_id": "819cd980a7594846b33f093b32611389",
       "version_major": 2,
       "version_minor": 0
      },
      "text/plain": [
       "Checking group /data_large/e:   0%|          | 0/8 [00:00<?, ?group/s]"
      ]
     },
     "metadata": {},
     "output_type": "display_data"
    },
    {
     "data": {
      "application/vnd.jupyter.widget-view+json": {
       "model_id": "2416c1f076984c36a8485ca3ef970767",
       "version_major": 2,
       "version_minor": 0
      },
      "text/plain": [
       "Checking group /data_large/e/elevator:   0%|          | 0/1 [00:00<?, ?group/s]"
      ]
     },
     "metadata": {},
     "output_type": "display_data"
    },
    {
     "data": {
      "application/vnd.jupyter.widget-view+json": {
       "model_id": "2264148933384c5291463226965648ed",
       "version_major": 2,
       "version_minor": 0
      },
      "text/plain": [
       "Checking group /data_large/e/elevator/door: 0group [00:00, ?group/s]"
      ]
     },
     "metadata": {},
     "output_type": "display_data"
    },
    {
     "data": {
      "application/vnd.jupyter.widget-view+json": {
       "model_id": "d9d14d70b7b84b9eae4f31b05873fd89",
       "version_major": 2,
       "version_minor": 0
      },
      "text/plain": [
       "Checking group /data_large/e/elevator_lobby: 0group [00:00, ?group/s]"
      ]
     },
     "metadata": {},
     "output_type": "display_data"
    },
    {
     "data": {
      "application/vnd.jupyter.widget-view+json": {
       "model_id": "182a8fc613594cd89f7c7971aadf620e",
       "version_major": 2,
       "version_minor": 0
      },
      "text/plain": [
       "Checking group /data_large/e/elevator_shaft: 0group [00:00, ?group/s]"
      ]
     },
     "metadata": {},
     "output_type": "display_data"
    },
    {
     "data": {
      "application/vnd.jupyter.widget-view+json": {
       "model_id": "0d2711c7ea2c4b72b4e91a90cc9fa73c",
       "version_major": 2,
       "version_minor": 0
      },
      "text/plain": [
       "Checking group /data_large/e/embassy: 0group [00:00, ?group/s]"
      ]
     },
     "metadata": {},
     "output_type": "display_data"
    },
    {
     "data": {
      "application/vnd.jupyter.widget-view+json": {
       "model_id": "ba7f7e9383cd4898b6873ae360c1e183",
       "version_major": 2,
       "version_minor": 0
      },
      "text/plain": [
       "Checking group /data_large/e/engine_room: 0group [00:00, ?group/s]"
      ]
     },
     "metadata": {},
     "output_type": "display_data"
    },
    {
     "data": {
      "application/vnd.jupyter.widget-view+json": {
       "model_id": "a19acef9711f4cca8078111f1d62e2f4",
       "version_major": 2,
       "version_minor": 0
      },
      "text/plain": [
       "Checking group /data_large/e/entrance_hall: 0group [00:00, ?group/s]"
      ]
     },
     "metadata": {},
     "output_type": "display_data"
    },
    {
     "data": {
      "application/vnd.jupyter.widget-view+json": {
       "model_id": "73016654179242ef99dcbf32e3570141",
       "version_major": 2,
       "version_minor": 0
      },
      "text/plain": [
       "Checking group /data_large/e/escalator:   0%|          | 0/1 [00:00<?, ?group/s]"
      ]
     },
     "metadata": {},
     "output_type": "display_data"
    },
    {
     "data": {
      "application/vnd.jupyter.widget-view+json": {
       "model_id": "bdcc6c32f3b94e9a9079495a4fb21b7b",
       "version_major": 2,
       "version_minor": 0
      },
      "text/plain": [
       "Checking group /data_large/e/escalator/indoor: 0group [00:00, ?group/s]"
      ]
     },
     "metadata": {},
     "output_type": "display_data"
    },
    {
     "data": {
      "application/vnd.jupyter.widget-view+json": {
       "model_id": "153eb103cac54a74b025adbef216daab",
       "version_major": 2,
       "version_minor": 0
      },
      "text/plain": [
       "Checking group /data_large/e/excavation: 0group [00:00, ?group/s]"
      ]
     },
     "metadata": {},
     "output_type": "display_data"
    },
    {
     "data": {
      "application/vnd.jupyter.widget-view+json": {
       "model_id": "ed5060d1bbbd4051a8f50f21717abccf",
       "version_major": 2,
       "version_minor": 0
      },
      "text/plain": [
       "Checking group /data_large/f:   0%|          | 0/17 [00:00<?, ?group/s]"
      ]
     },
     "metadata": {},
     "output_type": "display_data"
    },
    {
     "data": {
      "application/vnd.jupyter.widget-view+json": {
       "model_id": "1ff04f9c848349f2a638e42c1ab5e99e",
       "version_major": 2,
       "version_minor": 0
      },
      "text/plain": [
       "Checking group /data_large/f/fabric_store: 0group [00:00, ?group/s]"
      ]
     },
     "metadata": {},
     "output_type": "display_data"
    },
    {
     "data": {
      "application/vnd.jupyter.widget-view+json": {
       "model_id": "e63915a048174924aa95770b7789b627",
       "version_major": 2,
       "version_minor": 0
      },
      "text/plain": [
       "Checking group /data_large/f/farm: 0group [00:00, ?group/s]"
      ]
     },
     "metadata": {},
     "output_type": "display_data"
    },
    {
     "data": {
      "application/vnd.jupyter.widget-view+json": {
       "model_id": "5816ecfcfa6649cfb45be8f8c1035516",
       "version_major": 2,
       "version_minor": 0
      },
      "text/plain": [
       "Checking group /data_large/f/fastfood_restaurant: 0group [00:00, ?group/s]"
      ]
     },
     "metadata": {},
     "output_type": "display_data"
    },
    {
     "data": {
      "application/vnd.jupyter.widget-view+json": {
       "model_id": "54507bfdacfc4c3ab8c5a09105496694",
       "version_major": 2,
       "version_minor": 0
      },
      "text/plain": [
       "Checking group /data_large/f/field:   0%|          | 0/2 [00:00<?, ?group/s]"
      ]
     },
     "metadata": {},
     "output_type": "display_data"
    },
    {
     "data": {
      "application/vnd.jupyter.widget-view+json": {
       "model_id": "cd7dd22883bf4588b9b71b24861c0c72",
       "version_major": 2,
       "version_minor": 0
      },
      "text/plain": [
       "Checking group /data_large/f/field/cultivated: 0group [00:00, ?group/s]"
      ]
     },
     "metadata": {},
     "output_type": "display_data"
    },
    {
     "data": {
      "application/vnd.jupyter.widget-view+json": {
       "model_id": "f0786487a19a4197a9184e8dcc9386e2",
       "version_major": 2,
       "version_minor": 0
      },
      "text/plain": [
       "Checking group /data_large/f/field/wild: 0group [00:00, ?group/s]"
      ]
     },
     "metadata": {},
     "output_type": "display_data"
    },
    {
     "data": {
      "application/vnd.jupyter.widget-view+json": {
       "model_id": "e0480cf22ac14043986e3ef2742b51a8",
       "version_major": 2,
       "version_minor": 0
      },
      "text/plain": [
       "Checking group /data_large/f/field_road: 0group [00:00, ?group/s]"
      ]
     },
     "metadata": {},
     "output_type": "display_data"
    },
    {
     "data": {
      "application/vnd.jupyter.widget-view+json": {
       "model_id": "e77324635c1946389f073d86fd76d79a",
       "version_major": 2,
       "version_minor": 0
      },
      "text/plain": [
       "Checking group /data_large/f/fire_escape: 0group [00:00, ?group/s]"
      ]
     },
     "metadata": {},
     "output_type": "display_data"
    },
    {
     "data": {
      "application/vnd.jupyter.widget-view+json": {
       "model_id": "4cb3251ee6d94c39b2815236e67ccc15",
       "version_major": 2,
       "version_minor": 0
      },
      "text/plain": [
       "Checking group /data_large/f/fire_station: 0group [00:00, ?group/s]"
      ]
     },
     "metadata": {},
     "output_type": "display_data"
    },
    {
     "data": {
      "application/vnd.jupyter.widget-view+json": {
       "model_id": "624e5145a2e34ff886e3c22434d5ee44",
       "version_major": 2,
       "version_minor": 0
      },
      "text/plain": [
       "Checking group /data_large/f/fishpond: 0group [00:00, ?group/s]"
      ]
     },
     "metadata": {},
     "output_type": "display_data"
    },
    {
     "data": {
      "application/vnd.jupyter.widget-view+json": {
       "model_id": "a30a7c7d7a954d439537da2587c2f1a6",
       "version_major": 2,
       "version_minor": 0
      },
      "text/plain": [
       "Checking group /data_large/f/flea_market:   0%|          | 0/1 [00:00<?, ?group/s]"
      ]
     },
     "metadata": {},
     "output_type": "display_data"
    },
    {
     "data": {
      "application/vnd.jupyter.widget-view+json": {
       "model_id": "137318e8250748348eec3a669c83bf13",
       "version_major": 2,
       "version_minor": 0
      },
      "text/plain": [
       "Checking group /data_large/f/flea_market/indoor: 0group [00:00, ?group/s]"
      ]
     },
     "metadata": {},
     "output_type": "display_data"
    },
    {
     "data": {
      "application/vnd.jupyter.widget-view+json": {
       "model_id": "65a56c5899714b4b93d3228cc014d39a",
       "version_major": 2,
       "version_minor": 0
      },
      "text/plain": [
       "Checking group /data_large/f/florist_shop:   0%|          | 0/1 [00:00<?, ?group/s]"
      ]
     },
     "metadata": {},
     "output_type": "display_data"
    },
    {
     "data": {
      "application/vnd.jupyter.widget-view+json": {
       "model_id": "346693861baa498789a840e02f91ec2b",
       "version_major": 2,
       "version_minor": 0
      },
      "text/plain": [
       "Checking group /data_large/f/florist_shop/indoor: 0group [00:00, ?group/s]"
      ]
     },
     "metadata": {},
     "output_type": "display_data"
    },
    {
     "data": {
      "application/vnd.jupyter.widget-view+json": {
       "model_id": "c4449c2daf91495580c5bf4bdc30891f",
       "version_major": 2,
       "version_minor": 0
      },
      "text/plain": [
       "Checking group /data_large/f/food_court: 0group [00:00, ?group/s]"
      ]
     },
     "metadata": {},
     "output_type": "display_data"
    },
    {
     "data": {
      "application/vnd.jupyter.widget-view+json": {
       "model_id": "1d5a08166f7b49b4a377ab58f8eae51c",
       "version_major": 2,
       "version_minor": 0
      },
      "text/plain": [
       "Checking group /data_large/f/football_field: 0group [00:00, ?group/s]"
      ]
     },
     "metadata": {},
     "output_type": "display_data"
    },
    {
     "data": {
      "application/vnd.jupyter.widget-view+json": {
       "model_id": "a0e3a64456e44fa78e029b2c49671d1f",
       "version_major": 2,
       "version_minor": 0
      },
      "text/plain": [
       "Checking group /data_large/f/forest:   0%|          | 0/1 [00:00<?, ?group/s]"
      ]
     },
     "metadata": {},
     "output_type": "display_data"
    },
    {
     "data": {
      "application/vnd.jupyter.widget-view+json": {
       "model_id": "d6ed1b1c5c2941a0b4828f7a71aba827",
       "version_major": 2,
       "version_minor": 0
      },
      "text/plain": [
       "Checking group /data_large/f/forest/broadleaf: 0group [00:00, ?group/s]"
      ]
     },
     "metadata": {},
     "output_type": "display_data"
    },
    {
     "data": {
      "application/vnd.jupyter.widget-view+json": {
       "model_id": "946b50b3d47c4dbc824b74cd8e6c03d7",
       "version_major": 2,
       "version_minor": 0
      },
      "text/plain": [
       "Checking group /data_large/f/forest_path: 0group [00:00, ?group/s]"
      ]
     },
     "metadata": {},
     "output_type": "display_data"
    },
    {
     "data": {
      "application/vnd.jupyter.widget-view+json": {
       "model_id": "77f60d1d758348fb9096c6e99b6423a6",
       "version_major": 2,
       "version_minor": 0
      },
      "text/plain": [
       "Checking group /data_large/f/forest_road: 0group [00:00, ?group/s]"
      ]
     },
     "metadata": {},
     "output_type": "display_data"
    },
    {
     "data": {
      "application/vnd.jupyter.widget-view+json": {
       "model_id": "633384c30d004f9b83228ce5b7423f97",
       "version_major": 2,
       "version_minor": 0
      },
      "text/plain": [
       "Checking group /data_large/f/formal_garden: 0group [00:00, ?group/s]"
      ]
     },
     "metadata": {},
     "output_type": "display_data"
    },
    {
     "data": {
      "application/vnd.jupyter.widget-view+json": {
       "model_id": "fbfddbc6353847f0a991052a3bf16486",
       "version_major": 2,
       "version_minor": 0
      },
      "text/plain": [
       "Checking group /data_large/f/fountain: 0group [00:00, ?group/s]"
      ]
     },
     "metadata": {},
     "output_type": "display_data"
    },
    {
     "data": {
      "application/vnd.jupyter.widget-view+json": {
       "model_id": "0cf67bf544f4480f97862cb9ab803199",
       "version_major": 2,
       "version_minor": 0
      },
      "text/plain": [
       "Checking group /data_large/g:   0%|          | 0/11 [00:00<?, ?group/s]"
      ]
     },
     "metadata": {},
     "output_type": "display_data"
    },
    {
     "data": {
      "application/vnd.jupyter.widget-view+json": {
       "model_id": "34390853a51148f6bc8a26ec686be3f6",
       "version_major": 2,
       "version_minor": 0
      },
      "text/plain": [
       "Checking group /data_large/g/galley: 0group [00:00, ?group/s]"
      ]
     },
     "metadata": {},
     "output_type": "display_data"
    },
    {
     "data": {
      "application/vnd.jupyter.widget-view+json": {
       "model_id": "2513c7159c6b4cfeb2036c50cd40c823",
       "version_major": 2,
       "version_minor": 0
      },
      "text/plain": [
       "Checking group /data_large/g/garage:   0%|          | 0/2 [00:00<?, ?group/s]"
      ]
     },
     "metadata": {},
     "output_type": "display_data"
    },
    {
     "data": {
      "application/vnd.jupyter.widget-view+json": {
       "model_id": "619bdefc9f93400d866f82fbde90595c",
       "version_major": 2,
       "version_minor": 0
      },
      "text/plain": [
       "Checking group /data_large/g/garage/indoor: 0group [00:00, ?group/s]"
      ]
     },
     "metadata": {},
     "output_type": "display_data"
    },
    {
     "data": {
      "application/vnd.jupyter.widget-view+json": {
       "model_id": "f1fabffa4b364347aef05ce075a21ab3",
       "version_major": 2,
       "version_minor": 0
      },
      "text/plain": [
       "Checking group /data_large/g/garage/outdoor: 0group [00:00, ?group/s]"
      ]
     },
     "metadata": {},
     "output_type": "display_data"
    },
    {
     "data": {
      "application/vnd.jupyter.widget-view+json": {
       "model_id": "377afa296dd3476bbb267802194c0d0a",
       "version_major": 2,
       "version_minor": 0
      },
      "text/plain": [
       "Checking group /data_large/g/gas_station: 0group [00:00, ?group/s]"
      ]
     },
     "metadata": {},
     "output_type": "display_data"
    },
    {
     "data": {
      "application/vnd.jupyter.widget-view+json": {
       "model_id": "78f1dd76d77b440583d2fdd03a65c42b",
       "version_major": 2,
       "version_minor": 0
      },
      "text/plain": [
       "Checking group /data_large/g/gazebo:   0%|          | 0/1 [00:00<?, ?group/s]"
      ]
     },
     "metadata": {},
     "output_type": "display_data"
    },
    {
     "data": {
      "application/vnd.jupyter.widget-view+json": {
       "model_id": "4863a70ca61b438eb9fde0d10b6ad184",
       "version_major": 2,
       "version_minor": 0
      },
      "text/plain": [
       "Checking group /data_large/g/gazebo/exterior: 0group [00:00, ?group/s]"
      ]
     },
     "metadata": {},
     "output_type": "display_data"
    },
    {
     "data": {
      "application/vnd.jupyter.widget-view+json": {
       "model_id": "62b9c6a0ca6f4d15804232a694540455",
       "version_major": 2,
       "version_minor": 0
      },
      "text/plain": [
       "Checking group /data_large/g/general_store:   0%|          | 0/2 [00:00<?, ?group/s]"
      ]
     },
     "metadata": {},
     "output_type": "display_data"
    },
    {
     "data": {
      "application/vnd.jupyter.widget-view+json": {
       "model_id": "582854435bd744f1a94db962a071597f",
       "version_major": 2,
       "version_minor": 0
      },
      "text/plain": [
       "Checking group /data_large/g/general_store/indoor: 0group [00:00, ?group/s]"
      ]
     },
     "metadata": {},
     "output_type": "display_data"
    },
    {
     "data": {
      "application/vnd.jupyter.widget-view+json": {
       "model_id": "31fed81ed0e34ae5a9c63e73bd20272f",
       "version_major": 2,
       "version_minor": 0
      },
      "text/plain": [
       "Checking group /data_large/g/general_store/outdoor: 0group [00:00, ?group/s]"
      ]
     },
     "metadata": {},
     "output_type": "display_data"
    },
    {
     "data": {
      "application/vnd.jupyter.widget-view+json": {
       "model_id": "738ef772525e4234ad8568511703172d",
       "version_major": 2,
       "version_minor": 0
      },
      "text/plain": [
       "Checking group /data_large/g/gift_shop: 0group [00:00, ?group/s]"
      ]
     },
     "metadata": {},
     "output_type": "display_data"
    },
    {
     "data": {
      "application/vnd.jupyter.widget-view+json": {
       "model_id": "3b78d648a0e845b19e6d88885aff49dc",
       "version_major": 2,
       "version_minor": 0
      },
      "text/plain": [
       "Checking group /data_large/g/glacier: 0group [00:00, ?group/s]"
      ]
     },
     "metadata": {},
     "output_type": "display_data"
    },
    {
     "data": {
      "application/vnd.jupyter.widget-view+json": {
       "model_id": "cbe6b6dd179945c6a8dd2a1f9273285f",
       "version_major": 2,
       "version_minor": 0
      },
      "text/plain": [
       "Checking group /data_large/g/golf_course: 0group [00:00, ?group/s]"
      ]
     },
     "metadata": {},
     "output_type": "display_data"
    },
    {
     "data": {
      "application/vnd.jupyter.widget-view+json": {
       "model_id": "ec401e2ae28c4008bd87d91ccf60e022",
       "version_major": 2,
       "version_minor": 0
      },
      "text/plain": [
       "Checking group /data_large/g/greenhouse:   0%|          | 0/2 [00:00<?, ?group/s]"
      ]
     },
     "metadata": {},
     "output_type": "display_data"
    },
    {
     "data": {
      "application/vnd.jupyter.widget-view+json": {
       "model_id": "33640e9f5f2d4661913f02d555c263ff",
       "version_major": 2,
       "version_minor": 0
      },
      "text/plain": [
       "Checking group /data_large/g/greenhouse/indoor: 0group [00:00, ?group/s]"
      ]
     },
     "metadata": {},
     "output_type": "display_data"
    },
    {
     "data": {
      "application/vnd.jupyter.widget-view+json": {
       "model_id": "41cd1a608faa4dcd81b3f4f3697bc882",
       "version_major": 2,
       "version_minor": 0
      },
      "text/plain": [
       "Checking group /data_large/g/greenhouse/outdoor: 0group [00:00, ?group/s]"
      ]
     },
     "metadata": {},
     "output_type": "display_data"
    },
    {
     "data": {
      "application/vnd.jupyter.widget-view+json": {
       "model_id": "0eb12ef35f67465496a6c6060bea98c7",
       "version_major": 2,
       "version_minor": 0
      },
      "text/plain": [
       "Checking group /data_large/g/grotto: 0group [00:00, ?group/s]"
      ]
     },
     "metadata": {},
     "output_type": "display_data"
    },
    {
     "data": {
      "application/vnd.jupyter.widget-view+json": {
       "model_id": "f3281774482547c6ab2d8e5f1b1ccd44",
       "version_major": 2,
       "version_minor": 0
      },
      "text/plain": [
       "Checking group /data_large/g/gymnasium:   0%|          | 0/1 [00:00<?, ?group/s]"
      ]
     },
     "metadata": {},
     "output_type": "display_data"
    },
    {
     "data": {
      "application/vnd.jupyter.widget-view+json": {
       "model_id": "e8b7a9f75b6949058ad8a1778487a203",
       "version_major": 2,
       "version_minor": 0
      },
      "text/plain": [
       "Checking group /data_large/g/gymnasium/indoor: 0group [00:00, ?group/s]"
      ]
     },
     "metadata": {},
     "output_type": "display_data"
    },
    {
     "data": {
      "application/vnd.jupyter.widget-view+json": {
       "model_id": "2db4ae93ce5b4d9db0a3259058a85562",
       "version_major": 2,
       "version_minor": 0
      },
      "text/plain": [
       "Checking group /data_large/h:   0%|          | 0/15 [00:00<?, ?group/s]"
      ]
     },
     "metadata": {},
     "output_type": "display_data"
    },
    {
     "data": {
      "application/vnd.jupyter.widget-view+json": {
       "model_id": "ceb776411d85424ebb452f1f28b038da",
       "version_major": 2,
       "version_minor": 0
      },
      "text/plain": [
       "Checking group /data_large/h/hangar:   0%|          | 0/2 [00:00<?, ?group/s]"
      ]
     },
     "metadata": {},
     "output_type": "display_data"
    },
    {
     "data": {
      "application/vnd.jupyter.widget-view+json": {
       "model_id": "8a8b915235ab4ec3affbe71bd7f28154",
       "version_major": 2,
       "version_minor": 0
      },
      "text/plain": [
       "Checking group /data_large/h/hangar/indoor: 0group [00:00, ?group/s]"
      ]
     },
     "metadata": {},
     "output_type": "display_data"
    },
    {
     "data": {
      "application/vnd.jupyter.widget-view+json": {
       "model_id": "edad217e192841b7a434a5c9fcde1565",
       "version_major": 2,
       "version_minor": 0
      },
      "text/plain": [
       "Checking group /data_large/h/hangar/outdoor: 0group [00:00, ?group/s]"
      ]
     },
     "metadata": {},
     "output_type": "display_data"
    },
    {
     "data": {
      "application/vnd.jupyter.widget-view+json": {
       "model_id": "e99c89b04ef24b268f9fd12b1c4aaa57",
       "version_major": 2,
       "version_minor": 0
      },
      "text/plain": [
       "Checking group /data_large/h/harbor: 0group [00:00, ?group/s]"
      ]
     },
     "metadata": {},
     "output_type": "display_data"
    },
    {
     "data": {
      "application/vnd.jupyter.widget-view+json": {
       "model_id": "63fb7ebc6d4b4c8a81a2540e1e4d58cd",
       "version_major": 2,
       "version_minor": 0
      },
      "text/plain": [
       "Checking group /data_large/h/hardware_store: 0group [00:00, ?group/s]"
      ]
     },
     "metadata": {},
     "output_type": "display_data"
    },
    {
     "data": {
      "application/vnd.jupyter.widget-view+json": {
       "model_id": "b368849db0f643439aa61febd80ca6e6",
       "version_major": 2,
       "version_minor": 0
      },
      "text/plain": [
       "Checking group /data_large/h/hayfield: 0group [00:00, ?group/s]"
      ]
     },
     "metadata": {},
     "output_type": "display_data"
    },
    {
     "data": {
      "application/vnd.jupyter.widget-view+json": {
       "model_id": "3999cede760d46898c2b133c11adfd0e",
       "version_major": 2,
       "version_minor": 0
      },
      "text/plain": [
       "Checking group /data_large/h/heliport: 0group [00:00, ?group/s]"
      ]
     },
     "metadata": {},
     "output_type": "display_data"
    },
    {
     "data": {
      "application/vnd.jupyter.widget-view+json": {
       "model_id": "4cbb2f580cac490db96f083639efb4fa",
       "version_major": 2,
       "version_minor": 0
      },
      "text/plain": [
       "Checking group /data_large/h/highway: 0group [00:00, ?group/s]"
      ]
     },
     "metadata": {},
     "output_type": "display_data"
    },
    {
     "data": {
      "application/vnd.jupyter.widget-view+json": {
       "model_id": "2bfe6e1ca3fa43cfa6f4834ca6e2cf31",
       "version_major": 2,
       "version_minor": 0
      },
      "text/plain": [
       "Checking group /data_large/h/home_office: 0group [00:00, ?group/s]"
      ]
     },
     "metadata": {},
     "output_type": "display_data"
    },
    {
     "data": {
      "application/vnd.jupyter.widget-view+json": {
       "model_id": "277018131ccf4a67915579cfb8090341",
       "version_major": 2,
       "version_minor": 0
      },
      "text/plain": [
       "Checking group /data_large/h/home_theater: 0group [00:00, ?group/s]"
      ]
     },
     "metadata": {},
     "output_type": "display_data"
    },
    {
     "data": {
      "application/vnd.jupyter.widget-view+json": {
       "model_id": "259badcc2a744346bd741ef4e63f7b98",
       "version_major": 2,
       "version_minor": 0
      },
      "text/plain": [
       "Checking group /data_large/h/hospital: 0group [00:00, ?group/s]"
      ]
     },
     "metadata": {},
     "output_type": "display_data"
    },
    {
     "data": {
      "application/vnd.jupyter.widget-view+json": {
       "model_id": "b316abd655fe4192a30846b627d01f30",
       "version_major": 2,
       "version_minor": 0
      },
      "text/plain": [
       "Checking group /data_large/h/hospital_room: 0group [00:00, ?group/s]"
      ]
     },
     "metadata": {},
     "output_type": "display_data"
    },
    {
     "data": {
      "application/vnd.jupyter.widget-view+json": {
       "model_id": "84066fd0982b4431b21ab8d9c30c35a0",
       "version_major": 2,
       "version_minor": 0
      },
      "text/plain": [
       "Checking group /data_large/h/hot_spring: 0group [00:00, ?group/s]"
      ]
     },
     "metadata": {},
     "output_type": "display_data"
    },
    {
     "data": {
      "application/vnd.jupyter.widget-view+json": {
       "model_id": "7aeac03991ce4d1eb2837c465b48e984",
       "version_major": 2,
       "version_minor": 0
      },
      "text/plain": [
       "Checking group /data_large/h/hotel:   0%|          | 0/1 [00:00<?, ?group/s]"
      ]
     },
     "metadata": {},
     "output_type": "display_data"
    },
    {
     "data": {
      "application/vnd.jupyter.widget-view+json": {
       "model_id": "ffe81e4188d64b008a83211a474842cc",
       "version_major": 2,
       "version_minor": 0
      },
      "text/plain": [
       "Checking group /data_large/h/hotel/outdoor: 0group [00:00, ?group/s]"
      ]
     },
     "metadata": {},
     "output_type": "display_data"
    },
    {
     "data": {
      "application/vnd.jupyter.widget-view+json": {
       "model_id": "f22c2c02e2944f53823517ff8366b255",
       "version_major": 2,
       "version_minor": 0
      },
      "text/plain": [
       "Checking group /data_large/h/hotel_room: 0group [00:00, ?group/s]"
      ]
     },
     "metadata": {},
     "output_type": "display_data"
    },
    {
     "data": {
      "application/vnd.jupyter.widget-view+json": {
       "model_id": "fa0cb35a14e948b9a60c174d57249f05",
       "version_major": 2,
       "version_minor": 0
      },
      "text/plain": [
       "Checking group /data_large/h/house: 0group [00:00, ?group/s]"
      ]
     },
     "metadata": {},
     "output_type": "display_data"
    },
    {
     "data": {
      "application/vnd.jupyter.widget-view+json": {
       "model_id": "e83f4c4ec9d946129d15fcd31b4588b0",
       "version_major": 2,
       "version_minor": 0
      },
      "text/plain": [
       "Checking group /data_large/h/hunting_lodge:   0%|          | 0/1 [00:00<?, ?group/s]"
      ]
     },
     "metadata": {},
     "output_type": "display_data"
    },
    {
     "data": {
      "application/vnd.jupyter.widget-view+json": {
       "model_id": "e55521a8d45f4019a9b155a56b6d6051",
       "version_major": 2,
       "version_minor": 0
      },
      "text/plain": [
       "Checking group /data_large/h/hunting_lodge/outdoor: 0group [00:00, ?group/s]"
      ]
     },
     "metadata": {},
     "output_type": "display_data"
    },
    {
     "data": {
      "application/vnd.jupyter.widget-view+json": {
       "model_id": "37a7c10443ab45b7b3777e901b87909b",
       "version_major": 2,
       "version_minor": 0
      },
      "text/plain": [
       "Checking group /data_large/i:   0%|          | 0/9 [00:00<?, ?group/s]"
      ]
     },
     "metadata": {},
     "output_type": "display_data"
    },
    {
     "data": {
      "application/vnd.jupyter.widget-view+json": {
       "model_id": "903ace09f88e4479b9c80835b09f1dc4",
       "version_major": 2,
       "version_minor": 0
      },
      "text/plain": [
       "Checking group /data_large/i/ice_cream_parlor: 0group [00:00, ?group/s]"
      ]
     },
     "metadata": {},
     "output_type": "display_data"
    },
    {
     "data": {
      "application/vnd.jupyter.widget-view+json": {
       "model_id": "2870b6da57e5460a87dfc02d1e418fa3",
       "version_major": 2,
       "version_minor": 0
      },
      "text/plain": [
       "Checking group /data_large/i/ice_floe: 0group [00:00, ?group/s]"
      ]
     },
     "metadata": {},
     "output_type": "display_data"
    },
    {
     "data": {
      "application/vnd.jupyter.widget-view+json": {
       "model_id": "e9e7c86e570c4b0e9e492e884ca05043",
       "version_major": 2,
       "version_minor": 0
      },
      "text/plain": [
       "Checking group /data_large/i/ice_shelf: 0group [00:00, ?group/s]"
      ]
     },
     "metadata": {},
     "output_type": "display_data"
    },
    {
     "data": {
      "application/vnd.jupyter.widget-view+json": {
       "model_id": "86a47bb904cb49cbb51a8b3fc77237f5",
       "version_major": 2,
       "version_minor": 0
      },
      "text/plain": [
       "Checking group /data_large/i/ice_skating_rink:   0%|          | 0/2 [00:00<?, ?group/s]"
      ]
     },
     "metadata": {},
     "output_type": "display_data"
    },
    {
     "data": {
      "application/vnd.jupyter.widget-view+json": {
       "model_id": "2d517ffdbda34f6e99956bfe15dbf73d",
       "version_major": 2,
       "version_minor": 0
      },
      "text/plain": [
       "Checking group /data_large/i/ice_skating_rink/indoor: 0group [00:00, ?group/s]"
      ]
     },
     "metadata": {},
     "output_type": "display_data"
    },
    {
     "data": {
      "application/vnd.jupyter.widget-view+json": {
       "model_id": "76824eeb6ea84263ac696305d19ea1ec",
       "version_major": 2,
       "version_minor": 0
      },
      "text/plain": [
       "Checking group /data_large/i/ice_skating_rink/outdoor: 0group [00:00, ?group/s]"
      ]
     },
     "metadata": {},
     "output_type": "display_data"
    },
    {
     "data": {
      "application/vnd.jupyter.widget-view+json": {
       "model_id": "7f12c2cacb1d4c63ad6536363864e592",
       "version_major": 2,
       "version_minor": 0
      },
      "text/plain": [
       "Checking group /data_large/i/iceberg: 0group [00:00, ?group/s]"
      ]
     },
     "metadata": {},
     "output_type": "display_data"
    },
    {
     "data": {
      "application/vnd.jupyter.widget-view+json": {
       "model_id": "444805081666488baf3733c9ad59090c",
       "version_major": 2,
       "version_minor": 0
      },
      "text/plain": [
       "Checking group /data_large/i/igloo: 0group [00:00, ?group/s]"
      ]
     },
     "metadata": {},
     "output_type": "display_data"
    },
    {
     "data": {
      "application/vnd.jupyter.widget-view+json": {
       "model_id": "4460d105ff514c2b841c6b2ae26788aa",
       "version_major": 2,
       "version_minor": 0
      },
      "text/plain": [
       "Checking group /data_large/i/industrial_area: 0group [00:00, ?group/s]"
      ]
     },
     "metadata": {},
     "output_type": "display_data"
    },
    {
     "data": {
      "application/vnd.jupyter.widget-view+json": {
       "model_id": "4614e075965046888740eb239f621dc6",
       "version_major": 2,
       "version_minor": 0
      },
      "text/plain": [
       "Checking group /data_large/i/inn:   0%|          | 0/1 [00:00<?, ?group/s]"
      ]
     },
     "metadata": {},
     "output_type": "display_data"
    },
    {
     "data": {
      "application/vnd.jupyter.widget-view+json": {
       "model_id": "e10db2a3a75a4f47897e40edbb8dd818",
       "version_major": 2,
       "version_minor": 0
      },
      "text/plain": [
       "Checking group /data_large/i/inn/outdoor: 0group [00:00, ?group/s]"
      ]
     },
     "metadata": {},
     "output_type": "display_data"
    },
    {
     "data": {
      "application/vnd.jupyter.widget-view+json": {
       "model_id": "96f411fa424c42c5b016971bbdc832c6",
       "version_major": 2,
       "version_minor": 0
      },
      "text/plain": [
       "Checking group /data_large/i/islet: 0group [00:00, ?group/s]"
      ]
     },
     "metadata": {},
     "output_type": "display_data"
    },
    {
     "data": {
      "application/vnd.jupyter.widget-view+json": {
       "model_id": "061f466472ad4f319271d446e1d8713f",
       "version_major": 2,
       "version_minor": 0
      },
      "text/plain": [
       "Checking group /data_large/j:   0%|          | 0/5 [00:00<?, ?group/s]"
      ]
     },
     "metadata": {},
     "output_type": "display_data"
    },
    {
     "data": {
      "application/vnd.jupyter.widget-view+json": {
       "model_id": "5c2fea6414d84e5384a9575242f049a0",
       "version_major": 2,
       "version_minor": 0
      },
      "text/plain": [
       "Checking group /data_large/j/jacuzzi:   0%|          | 0/1 [00:00<?, ?group/s]"
      ]
     },
     "metadata": {},
     "output_type": "display_data"
    },
    {
     "data": {
      "application/vnd.jupyter.widget-view+json": {
       "model_id": "362615cf2e624b99972c4c61e436f98b",
       "version_major": 2,
       "version_minor": 0
      },
      "text/plain": [
       "Checking group /data_large/j/jacuzzi/indoor: 0group [00:00, ?group/s]"
      ]
     },
     "metadata": {},
     "output_type": "display_data"
    },
    {
     "data": {
      "application/vnd.jupyter.widget-view+json": {
       "model_id": "e9f9a25f33e94911b139fb6d92ed5b2e",
       "version_major": 2,
       "version_minor": 0
      },
      "text/plain": [
       "Checking group /data_large/j/jail_cell: 0group [00:00, ?group/s]"
      ]
     },
     "metadata": {},
     "output_type": "display_data"
    },
    {
     "data": {
      "application/vnd.jupyter.widget-view+json": {
       "model_id": "bc2f264abdbe4f3a8a44e7bd16aaee64",
       "version_major": 2,
       "version_minor": 0
      },
      "text/plain": [
       "Checking group /data_large/j/japanese_garden: 0group [00:00, ?group/s]"
      ]
     },
     "metadata": {},
     "output_type": "display_data"
    },
    {
     "data": {
      "application/vnd.jupyter.widget-view+json": {
       "model_id": "5640e92d549f433991868097ccea51c2",
       "version_major": 2,
       "version_minor": 0
      },
      "text/plain": [
       "Checking group /data_large/j/jewelry_shop: 0group [00:00, ?group/s]"
      ]
     },
     "metadata": {},
     "output_type": "display_data"
    },
    {
     "data": {
      "application/vnd.jupyter.widget-view+json": {
       "model_id": "a4b8aaed12394d81a03fe46ce6419227",
       "version_major": 2,
       "version_minor": 0
      },
      "text/plain": [
       "Checking group /data_large/j/junkyard: 0group [00:00, ?group/s]"
      ]
     },
     "metadata": {},
     "output_type": "display_data"
    },
    {
     "data": {
      "application/vnd.jupyter.widget-view+json": {
       "model_id": "da684164132e4fe385c8016c4c42a553",
       "version_major": 2,
       "version_minor": 0
      },
      "text/plain": [
       "Checking group /data_large/k:   0%|          | 0/4 [00:00<?, ?group/s]"
      ]
     },
     "metadata": {},
     "output_type": "display_data"
    },
    {
     "data": {
      "application/vnd.jupyter.widget-view+json": {
       "model_id": "da2afe61635b40aeb1264f35714aec1c",
       "version_major": 2,
       "version_minor": 0
      },
      "text/plain": [
       "Checking group /data_large/k/kasbah: 0group [00:00, ?group/s]"
      ]
     },
     "metadata": {},
     "output_type": "display_data"
    },
    {
     "data": {
      "application/vnd.jupyter.widget-view+json": {
       "model_id": "2124e0518c3a456f9f120a0a4da06fb9",
       "version_major": 2,
       "version_minor": 0
      },
      "text/plain": [
       "Checking group /data_large/k/kennel:   0%|          | 0/1 [00:00<?, ?group/s]"
      ]
     },
     "metadata": {},
     "output_type": "display_data"
    },
    {
     "data": {
      "application/vnd.jupyter.widget-view+json": {
       "model_id": "b7feeea588ca4927b128a1773210489b",
       "version_major": 2,
       "version_minor": 0
      },
      "text/plain": [
       "Checking group /data_large/k/kennel/outdoor: 0group [00:00, ?group/s]"
      ]
     },
     "metadata": {},
     "output_type": "display_data"
    },
    {
     "data": {
      "application/vnd.jupyter.widget-view+json": {
       "model_id": "49e763b1a6664b0fa6d5e69d2ae6afd7",
       "version_major": 2,
       "version_minor": 0
      },
      "text/plain": [
       "Checking group /data_large/k/kindergarden_classroom: 0group [00:00, ?group/s]"
      ]
     },
     "metadata": {},
     "output_type": "display_data"
    },
    {
     "data": {
      "application/vnd.jupyter.widget-view+json": {
       "model_id": "59eecc11e954423f9d6803a7ebdb3787",
       "version_major": 2,
       "version_minor": 0
      },
      "text/plain": [
       "Checking group /data_large/k/kitchen: 0group [00:00, ?group/s]"
      ]
     },
     "metadata": {},
     "output_type": "display_data"
    },
    {
     "data": {
      "application/vnd.jupyter.widget-view+json": {
       "model_id": "818c0f5795bc4f758e76b51782caf9c9",
       "version_major": 2,
       "version_minor": 0
      },
      "text/plain": [
       "Checking group /data_large/l:   0%|          | 0/15 [00:00<?, ?group/s]"
      ]
     },
     "metadata": {},
     "output_type": "display_data"
    },
    {
     "data": {
      "application/vnd.jupyter.widget-view+json": {
       "model_id": "11610f752321478fa1b5423d6e26dbfb",
       "version_major": 2,
       "version_minor": 0
      },
      "text/plain": [
       "Checking group /data_large/l/lagoon: 0group [00:00, ?group/s]"
      ]
     },
     "metadata": {},
     "output_type": "display_data"
    },
    {
     "data": {
      "application/vnd.jupyter.widget-view+json": {
       "model_id": "ae5fcdb8625b4622b945a79b3b4494cc",
       "version_major": 2,
       "version_minor": 0
      },
      "text/plain": [
       "Checking group /data_large/l/lake:   0%|          | 0/1 [00:00<?, ?group/s]"
      ]
     },
     "metadata": {},
     "output_type": "display_data"
    },
    {
     "data": {
      "application/vnd.jupyter.widget-view+json": {
       "model_id": "55ad523388e94a75bfa24fdbfea421bd",
       "version_major": 2,
       "version_minor": 0
      },
      "text/plain": [
       "Checking group /data_large/l/lake/natural: 0group [00:00, ?group/s]"
      ]
     },
     "metadata": {},
     "output_type": "display_data"
    },
    {
     "data": {
      "application/vnd.jupyter.widget-view+json": {
       "model_id": "be522a59fc1b4b248344586b19fbe71e",
       "version_major": 2,
       "version_minor": 0
      },
      "text/plain": [
       "Checking group /data_large/l/landfill: 0group [00:00, ?group/s]"
      ]
     },
     "metadata": {},
     "output_type": "display_data"
    },
    {
     "data": {
      "application/vnd.jupyter.widget-view+json": {
       "model_id": "40f19c5ab4da4f62946a5541dcfd661a",
       "version_major": 2,
       "version_minor": 0
      },
      "text/plain": [
       "Checking group /data_large/l/landing_deck: 0group [00:00, ?group/s]"
      ]
     },
     "metadata": {},
     "output_type": "display_data"
    },
    {
     "data": {
      "application/vnd.jupyter.widget-view+json": {
       "model_id": "d40f4d0e24d343a88cc922a69a2eefe6",
       "version_major": 2,
       "version_minor": 0
      },
      "text/plain": [
       "Checking group /data_large/l/laundromat: 0group [00:00, ?group/s]"
      ]
     },
     "metadata": {},
     "output_type": "display_data"
    },
    {
     "data": {
      "application/vnd.jupyter.widget-view+json": {
       "model_id": "b0d61a83d7d54adc93fd82dbe51bae2d",
       "version_major": 2,
       "version_minor": 0
      },
      "text/plain": [
       "Checking group /data_large/l/lawn: 0group [00:00, ?group/s]"
      ]
     },
     "metadata": {},
     "output_type": "display_data"
    },
    {
     "data": {
      "application/vnd.jupyter.widget-view+json": {
       "model_id": "ed3fe99b5ed44f8b96e00e7dc4853378",
       "version_major": 2,
       "version_minor": 0
      },
      "text/plain": [
       "Checking group /data_large/l/lecture_room: 0group [00:00, ?group/s]"
      ]
     },
     "metadata": {},
     "output_type": "display_data"
    },
    {
     "data": {
      "application/vnd.jupyter.widget-view+json": {
       "model_id": "860aa38eaf724895a2633e62b661b079",
       "version_major": 2,
       "version_minor": 0
      },
      "text/plain": [
       "Checking group /data_large/l/legislative_chamber: 0group [00:00, ?group/s]"
      ]
     },
     "metadata": {},
     "output_type": "display_data"
    },
    {
     "data": {
      "application/vnd.jupyter.widget-view+json": {
       "model_id": "b062501ec6a5463581466f64ab6d73b5",
       "version_major": 2,
       "version_minor": 0
      },
      "text/plain": [
       "Checking group /data_large/l/library:   0%|          | 0/2 [00:00<?, ?group/s]"
      ]
     },
     "metadata": {},
     "output_type": "display_data"
    },
    {
     "data": {
      "application/vnd.jupyter.widget-view+json": {
       "model_id": "d2b3d8880eae4722a962e28f3e5966ed",
       "version_major": 2,
       "version_minor": 0
      },
      "text/plain": [
       "Checking group /data_large/l/library/indoor: 0group [00:00, ?group/s]"
      ]
     },
     "metadata": {},
     "output_type": "display_data"
    },
    {
     "data": {
      "application/vnd.jupyter.widget-view+json": {
       "model_id": "a2a446cf9c7d4916bc0a0be6f45f1ab7",
       "version_major": 2,
       "version_minor": 0
      },
      "text/plain": [
       "Checking group /data_large/l/library/outdoor: 0group [00:00, ?group/s]"
      ]
     },
     "metadata": {},
     "output_type": "display_data"
    },
    {
     "data": {
      "application/vnd.jupyter.widget-view+json": {
       "model_id": "ee67885a61264b86b232c39ffc342943",
       "version_major": 2,
       "version_minor": 0
      },
      "text/plain": [
       "Checking group /data_large/l/lighthouse: 0group [00:00, ?group/s]"
      ]
     },
     "metadata": {},
     "output_type": "display_data"
    },
    {
     "data": {
      "application/vnd.jupyter.widget-view+json": {
       "model_id": "84069c2887f041a9b945eaeefce121e8",
       "version_major": 2,
       "version_minor": 0
      },
      "text/plain": [
       "Checking group /data_large/l/living_room: 0group [00:00, ?group/s]"
      ]
     },
     "metadata": {},
     "output_type": "display_data"
    },
    {
     "data": {
      "application/vnd.jupyter.widget-view+json": {
       "model_id": "523e9fc9318545688453e5cab25cbc8c",
       "version_major": 2,
       "version_minor": 0
      },
      "text/plain": [
       "Checking group /data_large/l/loading_dock: 0group [00:00, ?group/s]"
      ]
     },
     "metadata": {},
     "output_type": "display_data"
    },
    {
     "data": {
      "application/vnd.jupyter.widget-view+json": {
       "model_id": "30d40fe4de254c15a961bb01af509f34",
       "version_major": 2,
       "version_minor": 0
      },
      "text/plain": [
       "Checking group /data_large/l/lobby: 0group [00:00, ?group/s]"
      ]
     },
     "metadata": {},
     "output_type": "display_data"
    },
    {
     "data": {
      "application/vnd.jupyter.widget-view+json": {
       "model_id": "c964efdcce824976935d742a70af16e3",
       "version_major": 2,
       "version_minor": 0
      },
      "text/plain": [
       "Checking group /data_large/l/lock_chamber: 0group [00:00, ?group/s]"
      ]
     },
     "metadata": {},
     "output_type": "display_data"
    },
    {
     "data": {
      "application/vnd.jupyter.widget-view+json": {
       "model_id": "d5e4d41ba29e45789f261232f823d39b",
       "version_major": 2,
       "version_minor": 0
      },
      "text/plain": [
       "Checking group /data_large/l/locker_room: 0group [00:00, ?group/s]"
      ]
     },
     "metadata": {},
     "output_type": "display_data"
    },
    {
     "data": {
      "application/vnd.jupyter.widget-view+json": {
       "model_id": "4e388e97220d4723a74001f19c19d467",
       "version_major": 2,
       "version_minor": 0
      },
      "text/plain": [
       "Checking group /data_large/m:   0%|          | 0/17 [00:00<?, ?group/s]"
      ]
     },
     "metadata": {},
     "output_type": "display_data"
    },
    {
     "data": {
      "application/vnd.jupyter.widget-view+json": {
       "model_id": "cd1a898976bb42bca47632a34d69db01",
       "version_major": 2,
       "version_minor": 0
      },
      "text/plain": [
       "Checking group /data_large/m/mansion: 0group [00:00, ?group/s]"
      ]
     },
     "metadata": {},
     "output_type": "display_data"
    },
    {
     "data": {
      "application/vnd.jupyter.widget-view+json": {
       "model_id": "6544618928044da0b75609a3114b3846",
       "version_major": 2,
       "version_minor": 0
      },
      "text/plain": [
       "Checking group /data_large/m/manufactured_home: 0group [00:00, ?group/s]"
      ]
     },
     "metadata": {},
     "output_type": "display_data"
    },
    {
     "data": {
      "application/vnd.jupyter.widget-view+json": {
       "model_id": "4580401263e44d09b1eed5c721188ca7",
       "version_major": 2,
       "version_minor": 0
      },
      "text/plain": [
       "Checking group /data_large/m/market:   0%|          | 0/2 [00:00<?, ?group/s]"
      ]
     },
     "metadata": {},
     "output_type": "display_data"
    },
    {
     "data": {
      "application/vnd.jupyter.widget-view+json": {
       "model_id": "5e12dc78f8644d33bf80b4ffd1d0f32a",
       "version_major": 2,
       "version_minor": 0
      },
      "text/plain": [
       "Checking group /data_large/m/market/indoor: 0group [00:00, ?group/s]"
      ]
     },
     "metadata": {},
     "output_type": "display_data"
    },
    {
     "data": {
      "application/vnd.jupyter.widget-view+json": {
       "model_id": "6becf1d458bc4ab69186a7a2dab5d937",
       "version_major": 2,
       "version_minor": 0
      },
      "text/plain": [
       "Checking group /data_large/m/market/outdoor: 0group [00:00, ?group/s]"
      ]
     },
     "metadata": {},
     "output_type": "display_data"
    },
    {
     "data": {
      "application/vnd.jupyter.widget-view+json": {
       "model_id": "bbe3c5c7d1b843d7ac00ad0ee191ff87",
       "version_major": 2,
       "version_minor": 0
      },
      "text/plain": [
       "Checking group /data_large/m/marsh: 0group [00:00, ?group/s]"
      ]
     },
     "metadata": {},
     "output_type": "display_data"
    },
    {
     "data": {
      "application/vnd.jupyter.widget-view+json": {
       "model_id": "ebacdeaa76ba49bc96d6be36d9fcb197",
       "version_major": 2,
       "version_minor": 0
      },
      "text/plain": [
       "Checking group /data_large/m/martial_arts_gym: 0group [00:00, ?group/s]"
      ]
     },
     "metadata": {},
     "output_type": "display_data"
    },
    {
     "data": {
      "application/vnd.jupyter.widget-view+json": {
       "model_id": "1e63e3e5821647f393c19d9c828a0107",
       "version_major": 2,
       "version_minor": 0
      },
      "text/plain": [
       "Checking group /data_large/m/mausoleum: 0group [00:00, ?group/s]"
      ]
     },
     "metadata": {},
     "output_type": "display_data"
    },
    {
     "data": {
      "application/vnd.jupyter.widget-view+json": {
       "model_id": "2c9abefa707a47848c565005f71b61d7",
       "version_major": 2,
       "version_minor": 0
      },
      "text/plain": [
       "Checking group /data_large/m/medina: 0group [00:00, ?group/s]"
      ]
     },
     "metadata": {},
     "output_type": "display_data"
    },
    {
     "data": {
      "application/vnd.jupyter.widget-view+json": {
       "model_id": "db3ca6c082e244218633006f5ffe6341",
       "version_major": 2,
       "version_minor": 0
      },
      "text/plain": [
       "Checking group /data_large/m/mezzanine: 0group [00:00, ?group/s]"
      ]
     },
     "metadata": {},
     "output_type": "display_data"
    },
    {
     "data": {
      "application/vnd.jupyter.widget-view+json": {
       "model_id": "3317c763963f4b739dce47239936999c",
       "version_major": 2,
       "version_minor": 0
      },
      "text/plain": [
       "Checking group /data_large/m/moat:   0%|          | 0/1 [00:00<?, ?group/s]"
      ]
     },
     "metadata": {},
     "output_type": "display_data"
    },
    {
     "data": {
      "application/vnd.jupyter.widget-view+json": {
       "model_id": "4a1c57eecbab4f59b7cd5ecd5193b976",
       "version_major": 2,
       "version_minor": 0
      },
      "text/plain": [
       "Checking group /data_large/m/moat/water: 0group [00:00, ?group/s]"
      ]
     },
     "metadata": {},
     "output_type": "display_data"
    },
    {
     "data": {
      "application/vnd.jupyter.widget-view+json": {
       "model_id": "5f7f7be546934c258a7701f009275ee9",
       "version_major": 2,
       "version_minor": 0
      },
      "text/plain": [
       "Checking group /data_large/m/mosque:   0%|          | 0/1 [00:00<?, ?group/s]"
      ]
     },
     "metadata": {},
     "output_type": "display_data"
    },
    {
     "data": {
      "application/vnd.jupyter.widget-view+json": {
       "model_id": "d9a4def05e1d47e7af631adc9be3d4ba",
       "version_major": 2,
       "version_minor": 0
      },
      "text/plain": [
       "Checking group /data_large/m/mosque/outdoor: 0group [00:00, ?group/s]"
      ]
     },
     "metadata": {},
     "output_type": "display_data"
    },
    {
     "data": {
      "application/vnd.jupyter.widget-view+json": {
       "model_id": "bd9b123d00fd4a428523b6492f80c29a",
       "version_major": 2,
       "version_minor": 0
      },
      "text/plain": [
       "Checking group /data_large/m/motel: 0group [00:00, ?group/s]"
      ]
     },
     "metadata": {},
     "output_type": "display_data"
    },
    {
     "data": {
      "application/vnd.jupyter.widget-view+json": {
       "model_id": "0caebb7d56c14419b8bbae4cd506503f",
       "version_major": 2,
       "version_minor": 0
      },
      "text/plain": [
       "Checking group /data_large/m/mountain: 0group [00:00, ?group/s]"
      ]
     },
     "metadata": {},
     "output_type": "display_data"
    },
    {
     "data": {
      "application/vnd.jupyter.widget-view+json": {
       "model_id": "58561db01b454defb62f84130aabf8de",
       "version_major": 2,
       "version_minor": 0
      },
      "text/plain": [
       "Checking group /data_large/m/mountain_path: 0group [00:00, ?group/s]"
      ]
     },
     "metadata": {},
     "output_type": "display_data"
    },
    {
     "data": {
      "application/vnd.jupyter.widget-view+json": {
       "model_id": "fc6a76af3de64f2c8ca9194e7587502d",
       "version_major": 2,
       "version_minor": 0
      },
      "text/plain": [
       "Checking group /data_large/m/mountain_snowy: 0group [00:00, ?group/s]"
      ]
     },
     "metadata": {},
     "output_type": "display_data"
    },
    {
     "data": {
      "application/vnd.jupyter.widget-view+json": {
       "model_id": "89ba2c3dda7f4e0f9e8c4442520db11e",
       "version_major": 2,
       "version_minor": 0
      },
      "text/plain": [
       "Checking group /data_large/m/movie_theater:   0%|          | 0/1 [00:00<?, ?group/s]"
      ]
     },
     "metadata": {},
     "output_type": "display_data"
    },
    {
     "data": {
      "application/vnd.jupyter.widget-view+json": {
       "model_id": "478f6fdc4196407383fc075e35d5db55",
       "version_major": 2,
       "version_minor": 0
      },
      "text/plain": [
       "Checking group /data_large/m/movie_theater/indoor: 0group [00:00, ?group/s]"
      ]
     },
     "metadata": {},
     "output_type": "display_data"
    },
    {
     "data": {
      "application/vnd.jupyter.widget-view+json": {
       "model_id": "ab232ee539a1463fb29c51f5fadf0dab",
       "version_major": 2,
       "version_minor": 0
      },
      "text/plain": [
       "Checking group /data_large/m/museum:   0%|          | 0/2 [00:00<?, ?group/s]"
      ]
     },
     "metadata": {},
     "output_type": "display_data"
    },
    {
     "data": {
      "application/vnd.jupyter.widget-view+json": {
       "model_id": "f218d7e4ea9a4e63a06287193571ef2d",
       "version_major": 2,
       "version_minor": 0
      },
      "text/plain": [
       "Checking group /data_large/m/museum/indoor: 0group [00:00, ?group/s]"
      ]
     },
     "metadata": {},
     "output_type": "display_data"
    },
    {
     "data": {
      "application/vnd.jupyter.widget-view+json": {
       "model_id": "30fca3c39fc84e46906411250decd4e3",
       "version_major": 2,
       "version_minor": 0
      },
      "text/plain": [
       "Checking group /data_large/m/museum/outdoor: 0group [00:00, ?group/s]"
      ]
     },
     "metadata": {},
     "output_type": "display_data"
    },
    {
     "data": {
      "application/vnd.jupyter.widget-view+json": {
       "model_id": "b7ae37bc0de442b6a7ba501526c3e7b3",
       "version_major": 2,
       "version_minor": 0
      },
      "text/plain": [
       "Checking group /data_large/m/music_studio: 0group [00:00, ?group/s]"
      ]
     },
     "metadata": {},
     "output_type": "display_data"
    },
    {
     "data": {
      "application/vnd.jupyter.widget-view+json": {
       "model_id": "ed6903896b6546d8bf7973874ec995f5",
       "version_major": 2,
       "version_minor": 0
      },
      "text/plain": [
       "Checking group /data_large/n:   0%|          | 0/3 [00:00<?, ?group/s]"
      ]
     },
     "metadata": {},
     "output_type": "display_data"
    },
    {
     "data": {
      "application/vnd.jupyter.widget-view+json": {
       "model_id": "c3d73c089f7b4dedb7ab56c496a6e5f2",
       "version_major": 2,
       "version_minor": 0
      },
      "text/plain": [
       "Checking group /data_large/n/natural_history_museum: 0group [00:00, ?group/s]"
      ]
     },
     "metadata": {},
     "output_type": "display_data"
    },
    {
     "data": {
      "application/vnd.jupyter.widget-view+json": {
       "model_id": "3610292a49b94748ab2d7b76166499e9",
       "version_major": 2,
       "version_minor": 0
      },
      "text/plain": [
       "Checking group /data_large/n/nursery: 0group [00:00, ?group/s]"
      ]
     },
     "metadata": {},
     "output_type": "display_data"
    },
    {
     "data": {
      "application/vnd.jupyter.widget-view+json": {
       "model_id": "745675836366499895ddcf39cfa62537",
       "version_major": 2,
       "version_minor": 0
      },
      "text/plain": [
       "Checking group /data_large/n/nursing_home: 0group [00:00, ?group/s]"
      ]
     },
     "metadata": {},
     "output_type": "display_data"
    },
    {
     "data": {
      "application/vnd.jupyter.widget-view+json": {
       "model_id": "82632ead820b417fb67f458a5572f7ec",
       "version_major": 2,
       "version_minor": 0
      },
      "text/plain": [
       "Checking group /data_large/o:   0%|          | 0/9 [00:00<?, ?group/s]"
      ]
     },
     "metadata": {},
     "output_type": "display_data"
    },
    {
     "data": {
      "application/vnd.jupyter.widget-view+json": {
       "model_id": "75e953eb254b4d77bac8477305110590",
       "version_major": 2,
       "version_minor": 0
      },
      "text/plain": [
       "Checking group /data_large/o/oast_house: 0group [00:00, ?group/s]"
      ]
     },
     "metadata": {},
     "output_type": "display_data"
    },
    {
     "data": {
      "application/vnd.jupyter.widget-view+json": {
       "model_id": "6573605c0c244fd399e4171f1073a243",
       "version_major": 2,
       "version_minor": 0
      },
      "text/plain": [
       "Checking group /data_large/o/ocean: 0group [00:00, ?group/s]"
      ]
     },
     "metadata": {},
     "output_type": "display_data"
    },
    {
     "data": {
      "application/vnd.jupyter.widget-view+json": {
       "model_id": "0e08f15c33a84a9f8c1aaa7455e35d01",
       "version_major": 2,
       "version_minor": 0
      },
      "text/plain": [
       "Checking group /data_large/o/office: 0group [00:00, ?group/s]"
      ]
     },
     "metadata": {},
     "output_type": "display_data"
    },
    {
     "data": {
      "application/vnd.jupyter.widget-view+json": {
       "model_id": "5db28ec1666d43b09edb2f7ab9e953e7",
       "version_major": 2,
       "version_minor": 0
      },
      "text/plain": [
       "Checking group /data_large/o/office_building: 0group [00:00, ?group/s]"
      ]
     },
     "metadata": {},
     "output_type": "display_data"
    },
    {
     "data": {
      "application/vnd.jupyter.widget-view+json": {
       "model_id": "07746b6aacc047b89ce2f3da4976a356",
       "version_major": 2,
       "version_minor": 0
      },
      "text/plain": [
       "Checking group /data_large/o/office_cubicles: 0group [00:00, ?group/s]"
      ]
     },
     "metadata": {},
     "output_type": "display_data"
    },
    {
     "data": {
      "application/vnd.jupyter.widget-view+json": {
       "model_id": "959f2bd878e645dd9c63178f4339e810",
       "version_major": 2,
       "version_minor": 0
      },
      "text/plain": [
       "Checking group /data_large/o/oilrig: 0group [00:00, ?group/s]"
      ]
     },
     "metadata": {},
     "output_type": "display_data"
    },
    {
     "data": {
      "application/vnd.jupyter.widget-view+json": {
       "model_id": "84e2b7510e414563b874c05cfdec13aa",
       "version_major": 2,
       "version_minor": 0
      },
      "text/plain": [
       "Checking group /data_large/o/operating_room: 0group [00:00, ?group/s]"
      ]
     },
     "metadata": {},
     "output_type": "display_data"
    },
    {
     "data": {
      "application/vnd.jupyter.widget-view+json": {
       "model_id": "2f62660f01ba4134834d8e27dea0ccf5",
       "version_major": 2,
       "version_minor": 0
      },
      "text/plain": [
       "Checking group /data_large/o/orchard: 0group [00:00, ?group/s]"
      ]
     },
     "metadata": {},
     "output_type": "display_data"
    },
    {
     "data": {
      "application/vnd.jupyter.widget-view+json": {
       "model_id": "f22572b588ca4522b3c41749d906a019",
       "version_major": 2,
       "version_minor": 0
      },
      "text/plain": [
       "Checking group /data_large/o/orchestra_pit: 0group [00:00, ?group/s]"
      ]
     },
     "metadata": {},
     "output_type": "display_data"
    },
    {
     "data": {
      "application/vnd.jupyter.widget-view+json": {
       "model_id": "9d85cfcd224a474d89db15693154b15a",
       "version_major": 2,
       "version_minor": 0
      },
      "text/plain": [
       "Checking group /data_large/p:   0%|          | 0/23 [00:00<?, ?group/s]"
      ]
     },
     "metadata": {},
     "output_type": "display_data"
    },
    {
     "data": {
      "application/vnd.jupyter.widget-view+json": {
       "model_id": "8a5c4505f5a7419d80e33abf3bfa7977",
       "version_major": 2,
       "version_minor": 0
      },
      "text/plain": [
       "Checking group /data_large/p/pagoda: 0group [00:00, ?group/s]"
      ]
     },
     "metadata": {},
     "output_type": "display_data"
    },
    {
     "data": {
      "application/vnd.jupyter.widget-view+json": {
       "model_id": "09d1864444004e30a2d8fb679d9c28f0",
       "version_major": 2,
       "version_minor": 0
      },
      "text/plain": [
       "Checking group /data_large/p/palace: 0group [00:00, ?group/s]"
      ]
     },
     "metadata": {},
     "output_type": "display_data"
    },
    {
     "data": {
      "application/vnd.jupyter.widget-view+json": {
       "model_id": "b67ec24f106544c8b7a6ff0b8d8f0d65",
       "version_major": 2,
       "version_minor": 0
      },
      "text/plain": [
       "Checking group /data_large/p/pantry: 0group [00:00, ?group/s]"
      ]
     },
     "metadata": {},
     "output_type": "display_data"
    },
    {
     "data": {
      "application/vnd.jupyter.widget-view+json": {
       "model_id": "c53a3af3b78f47609e3d3ddc765b216d",
       "version_major": 2,
       "version_minor": 0
      },
      "text/plain": [
       "Checking group /data_large/p/park: 0group [00:00, ?group/s]"
      ]
     },
     "metadata": {},
     "output_type": "display_data"
    },
    {
     "data": {
      "application/vnd.jupyter.widget-view+json": {
       "model_id": "f6c14c86a0f4490daf0265e53630303d",
       "version_major": 2,
       "version_minor": 0
      },
      "text/plain": [
       "Checking group /data_large/p/parking_garage:   0%|          | 0/2 [00:00<?, ?group/s]"
      ]
     },
     "metadata": {},
     "output_type": "display_data"
    },
    {
     "data": {
      "application/vnd.jupyter.widget-view+json": {
       "model_id": "95a36c774f0c4fcba46976bb8f1f259d",
       "version_major": 2,
       "version_minor": 0
      },
      "text/plain": [
       "Checking group /data_large/p/parking_garage/indoor: 0group [00:00, ?group/s]"
      ]
     },
     "metadata": {},
     "output_type": "display_data"
    },
    {
     "data": {
      "application/vnd.jupyter.widget-view+json": {
       "model_id": "04629b3525b041a8b0865246b8655335",
       "version_major": 2,
       "version_minor": 0
      },
      "text/plain": [
       "Checking group /data_large/p/parking_garage/outdoor: 0group [00:00, ?group/s]"
      ]
     },
     "metadata": {},
     "output_type": "display_data"
    },
    {
     "data": {
      "application/vnd.jupyter.widget-view+json": {
       "model_id": "ddb2dd64cb1a4776806571ce4387c03c",
       "version_major": 2,
       "version_minor": 0
      },
      "text/plain": [
       "Checking group /data_large/p/parking_lot: 0group [00:00, ?group/s]"
      ]
     },
     "metadata": {},
     "output_type": "display_data"
    },
    {
     "data": {
      "application/vnd.jupyter.widget-view+json": {
       "model_id": "726f2ec18aec40618cfaaad4a686fea4",
       "version_major": 2,
       "version_minor": 0
      },
      "text/plain": [
       "Checking group /data_large/p/pasture: 0group [00:00, ?group/s]"
      ]
     },
     "metadata": {},
     "output_type": "display_data"
    },
    {
     "data": {
      "application/vnd.jupyter.widget-view+json": {
       "model_id": "6e7ac1a1ffe74443afd23c2435f452f5",
       "version_major": 2,
       "version_minor": 0
      },
      "text/plain": [
       "Checking group /data_large/p/patio: 0group [00:00, ?group/s]"
      ]
     },
     "metadata": {},
     "output_type": "display_data"
    },
    {
     "data": {
      "application/vnd.jupyter.widget-view+json": {
       "model_id": "035f35fffa0643d4b4bf923dccad1be1",
       "version_major": 2,
       "version_minor": 0
      },
      "text/plain": [
       "Checking group /data_large/p/pavilion: 0group [00:00, ?group/s]"
      ]
     },
     "metadata": {},
     "output_type": "display_data"
    },
    {
     "data": {
      "application/vnd.jupyter.widget-view+json": {
       "model_id": "56383eed8cce468493e0f759e36d8910",
       "version_major": 2,
       "version_minor": 0
      },
      "text/plain": [
       "Checking group /data_large/p/pet_shop: 0group [00:00, ?group/s]"
      ]
     },
     "metadata": {},
     "output_type": "display_data"
    },
    {
     "data": {
      "application/vnd.jupyter.widget-view+json": {
       "model_id": "3c86d81e72bd4b78875cb349fcd88052",
       "version_major": 2,
       "version_minor": 0
      },
      "text/plain": [
       "Checking group /data_large/p/pharmacy: 0group [00:00, ?group/s]"
      ]
     },
     "metadata": {},
     "output_type": "display_data"
    },
    {
     "data": {
      "application/vnd.jupyter.widget-view+json": {
       "model_id": "86e2c7f127c0453191bd8ef51bc61ee5",
       "version_major": 2,
       "version_minor": 0
      },
      "text/plain": [
       "Checking group /data_large/p/phone_booth: 0group [00:00, ?group/s]"
      ]
     },
     "metadata": {},
     "output_type": "display_data"
    },
    {
     "data": {
      "application/vnd.jupyter.widget-view+json": {
       "model_id": "5e5c5d45ae7347ec8311759ebdf3b011",
       "version_major": 2,
       "version_minor": 0
      },
      "text/plain": [
       "Checking group /data_large/p/physics_laboratory: 0group [00:00, ?group/s]"
      ]
     },
     "metadata": {},
     "output_type": "display_data"
    },
    {
     "data": {
      "application/vnd.jupyter.widget-view+json": {
       "model_id": "92c7f8ea52e34051aceb1d7cb92398ae",
       "version_major": 2,
       "version_minor": 0
      },
      "text/plain": [
       "Checking group /data_large/p/picnic_area: 0group [00:00, ?group/s]"
      ]
     },
     "metadata": {},
     "output_type": "display_data"
    },
    {
     "data": {
      "application/vnd.jupyter.widget-view+json": {
       "model_id": "5e7e9080758c43b2afe5bf2c0f1ccea5",
       "version_major": 2,
       "version_minor": 0
      },
      "text/plain": [
       "Checking group /data_large/p/pier: 0group [00:00, ?group/s]"
      ]
     },
     "metadata": {},
     "output_type": "display_data"
    },
    {
     "data": {
      "application/vnd.jupyter.widget-view+json": {
       "model_id": "ab88fd172ac44148810a56f027aacadf",
       "version_major": 2,
       "version_minor": 0
      },
      "text/plain": [
       "Checking group /data_large/p/pizzeria: 0group [00:00, ?group/s]"
      ]
     },
     "metadata": {},
     "output_type": "display_data"
    },
    {
     "data": {
      "application/vnd.jupyter.widget-view+json": {
       "model_id": "595d900348344f9cad2c2584fdb69dc4",
       "version_major": 2,
       "version_minor": 0
      },
      "text/plain": [
       "Checking group /data_large/p/playground: 0group [00:00, ?group/s]"
      ]
     },
     "metadata": {},
     "output_type": "display_data"
    },
    {
     "data": {
      "application/vnd.jupyter.widget-view+json": {
       "model_id": "12a40985a1064af0b21255ee1350aa30",
       "version_major": 2,
       "version_minor": 0
      },
      "text/plain": [
       "Checking group /data_large/p/playroom: 0group [00:00, ?group/s]"
      ]
     },
     "metadata": {},
     "output_type": "display_data"
    },
    {
     "data": {
      "application/vnd.jupyter.widget-view+json": {
       "model_id": "ade64f92232a42e6988e6607bcd570e9",
       "version_major": 2,
       "version_minor": 0
      },
      "text/plain": [
       "Checking group /data_large/p/plaza: 0group [00:00, ?group/s]"
      ]
     },
     "metadata": {},
     "output_type": "display_data"
    },
    {
     "data": {
      "application/vnd.jupyter.widget-view+json": {
       "model_id": "d8c1192af6714cdea6c6d01573a652e7",
       "version_major": 2,
       "version_minor": 0
      },
      "text/plain": [
       "Checking group /data_large/p/pond: 0group [00:00, ?group/s]"
      ]
     },
     "metadata": {},
     "output_type": "display_data"
    },
    {
     "data": {
      "application/vnd.jupyter.widget-view+json": {
       "model_id": "5447b1d49c9041a9aaec1c9e3587ed79",
       "version_major": 2,
       "version_minor": 0
      },
      "text/plain": [
       "Checking group /data_large/p/porch: 0group [00:00, ?group/s]"
      ]
     },
     "metadata": {},
     "output_type": "display_data"
    },
    {
     "data": {
      "application/vnd.jupyter.widget-view+json": {
       "model_id": "f0800fa0a64942338b379b10c7ca4616",
       "version_major": 2,
       "version_minor": 0
      },
      "text/plain": [
       "Checking group /data_large/p/promenade: 0group [00:00, ?group/s]"
      ]
     },
     "metadata": {},
     "output_type": "display_data"
    },
    {
     "data": {
      "application/vnd.jupyter.widget-view+json": {
       "model_id": "1926e0694f7746d9b61847afef4c5b07",
       "version_major": 2,
       "version_minor": 0
      },
      "text/plain": [
       "Checking group /data_large/p/pub:   0%|          | 0/1 [00:00<?, ?group/s]"
      ]
     },
     "metadata": {},
     "output_type": "display_data"
    },
    {
     "data": {
      "application/vnd.jupyter.widget-view+json": {
       "model_id": "8a10c3dd9bc545ff8135b9404e73c452",
       "version_major": 2,
       "version_minor": 0
      },
      "text/plain": [
       "Checking group /data_large/p/pub/indoor: 0group [00:00, ?group/s]"
      ]
     },
     "metadata": {},
     "output_type": "display_data"
    },
    {
     "data": {
      "application/vnd.jupyter.widget-view+json": {
       "model_id": "6a6b97209ba34b2eb121423d9fe1667d",
       "version_major": 2,
       "version_minor": 0
      },
      "text/plain": [
       "Checking group /data_large/r:   0%|          | 0/19 [00:00<?, ?group/s]"
      ]
     },
     "metadata": {},
     "output_type": "display_data"
    },
    {
     "data": {
      "application/vnd.jupyter.widget-view+json": {
       "model_id": "1db57da9c9f74b6c8a8e8289dc7308aa",
       "version_major": 2,
       "version_minor": 0
      },
      "text/plain": [
       "Checking group /data_large/r/racecourse: 0group [00:00, ?group/s]"
      ]
     },
     "metadata": {},
     "output_type": "display_data"
    },
    {
     "data": {
      "application/vnd.jupyter.widget-view+json": {
       "model_id": "509c988680ea43be994653ea14ccbdd6",
       "version_major": 2,
       "version_minor": 0
      },
      "text/plain": [
       "Checking group /data_large/r/raceway: 0group [00:00, ?group/s]"
      ]
     },
     "metadata": {},
     "output_type": "display_data"
    },
    {
     "data": {
      "application/vnd.jupyter.widget-view+json": {
       "model_id": "e8d6dc8c3cbe46cc8adab3fac63abb98",
       "version_major": 2,
       "version_minor": 0
      },
      "text/plain": [
       "Checking group /data_large/r/raft: 0group [00:00, ?group/s]"
      ]
     },
     "metadata": {},
     "output_type": "display_data"
    },
    {
     "data": {
      "application/vnd.jupyter.widget-view+json": {
       "model_id": "c0e712e0803f484eb34cd9ce5a3b053a",
       "version_major": 2,
       "version_minor": 0
      },
      "text/plain": [
       "Checking group /data_large/r/railroad_track: 0group [00:00, ?group/s]"
      ]
     },
     "metadata": {},
     "output_type": "display_data"
    },
    {
     "data": {
      "application/vnd.jupyter.widget-view+json": {
       "model_id": "487ae1e246524913a2b4b213b8439278",
       "version_major": 2,
       "version_minor": 0
      },
      "text/plain": [
       "Checking group /data_large/r/rainforest: 0group [00:00, ?group/s]"
      ]
     },
     "metadata": {},
     "output_type": "display_data"
    },
    {
     "data": {
      "application/vnd.jupyter.widget-view+json": {
       "model_id": "3dfb6f2378d449be970fc49606aea37b",
       "version_major": 2,
       "version_minor": 0
      },
      "text/plain": [
       "Checking group /data_large/r/reception: 0group [00:00, ?group/s]"
      ]
     },
     "metadata": {},
     "output_type": "display_data"
    },
    {
     "data": {
      "application/vnd.jupyter.widget-view+json": {
       "model_id": "9d889f12abb249889dc7d2c162b055cf",
       "version_major": 2,
       "version_minor": 0
      },
      "text/plain": [
       "Checking group /data_large/r/recreation_room: 0group [00:00, ?group/s]"
      ]
     },
     "metadata": {},
     "output_type": "display_data"
    },
    {
     "data": {
      "application/vnd.jupyter.widget-view+json": {
       "model_id": "a3e72a8ee4fc42cba3fd2a4b2a1fef23",
       "version_major": 2,
       "version_minor": 0
      },
      "text/plain": [
       "Checking group /data_large/r/repair_shop: 0group [00:00, ?group/s]"
      ]
     },
     "metadata": {},
     "output_type": "display_data"
    },
    {
     "data": {
      "application/vnd.jupyter.widget-view+json": {
       "model_id": "f94fb98261c2476f871412e648ff48fa",
       "version_major": 2,
       "version_minor": 0
      },
      "text/plain": [
       "Checking group /data_large/r/residential_neighborhood: 0group [00:00, ?group/s]"
      ]
     },
     "metadata": {},
     "output_type": "display_data"
    },
    {
     "data": {
      "application/vnd.jupyter.widget-view+json": {
       "model_id": "17e465144df546deadee122ea63b9714",
       "version_major": 2,
       "version_minor": 0
      },
      "text/plain": [
       "Checking group /data_large/r/restaurant: 0group [00:00, ?group/s]"
      ]
     },
     "metadata": {},
     "output_type": "display_data"
    },
    {
     "data": {
      "application/vnd.jupyter.widget-view+json": {
       "model_id": "b28128b966324ccb8ebb9f5bafff6362",
       "version_major": 2,
       "version_minor": 0
      },
      "text/plain": [
       "Checking group /data_large/r/restaurant_kitchen: 0group [00:00, ?group/s]"
      ]
     },
     "metadata": {},
     "output_type": "display_data"
    },
    {
     "data": {
      "application/vnd.jupyter.widget-view+json": {
       "model_id": "8e9651d55263425a80e3e63bc1a7137d",
       "version_major": 2,
       "version_minor": 0
      },
      "text/plain": [
       "Checking group /data_large/r/restaurant_patio: 0group [00:00, ?group/s]"
      ]
     },
     "metadata": {},
     "output_type": "display_data"
    },
    {
     "data": {
      "application/vnd.jupyter.widget-view+json": {
       "model_id": "c92480ea347247018c0a933823ae77be",
       "version_major": 2,
       "version_minor": 0
      },
      "text/plain": [
       "Checking group /data_large/r/rice_paddy: 0group [00:00, ?group/s]"
      ]
     },
     "metadata": {},
     "output_type": "display_data"
    },
    {
     "data": {
      "application/vnd.jupyter.widget-view+json": {
       "model_id": "07f26d2edc3a4cc98a4add39799bc2b6",
       "version_major": 2,
       "version_minor": 0
      },
      "text/plain": [
       "Checking group /data_large/r/river: 0group [00:00, ?group/s]"
      ]
     },
     "metadata": {},
     "output_type": "display_data"
    },
    {
     "data": {
      "application/vnd.jupyter.widget-view+json": {
       "model_id": "38972a981aea44fe959bb77eab4962dc",
       "version_major": 2,
       "version_minor": 0
      },
      "text/plain": [
       "Checking group /data_large/r/rock_arch: 0group [00:00, ?group/s]"
      ]
     },
     "metadata": {},
     "output_type": "display_data"
    },
    {
     "data": {
      "application/vnd.jupyter.widget-view+json": {
       "model_id": "1a0c6795fa6341f096768ae2e82355e3",
       "version_major": 2,
       "version_minor": 0
      },
      "text/plain": [
       "Checking group /data_large/r/roof_garden: 0group [00:00, ?group/s]"
      ]
     },
     "metadata": {},
     "output_type": "display_data"
    },
    {
     "data": {
      "application/vnd.jupyter.widget-view+json": {
       "model_id": "a1afecda58aa4f74be3b4ff669e4c0b4",
       "version_major": 2,
       "version_minor": 0
      },
      "text/plain": [
       "Checking group /data_large/r/rope_bridge: 0group [00:00, ?group/s]"
      ]
     },
     "metadata": {},
     "output_type": "display_data"
    },
    {
     "data": {
      "application/vnd.jupyter.widget-view+json": {
       "model_id": "ee153ddefc8a4cfeba5930b511a0f11b",
       "version_major": 2,
       "version_minor": 0
      },
      "text/plain": [
       "Checking group /data_large/r/ruin: 0group [00:00, ?group/s]"
      ]
     },
     "metadata": {},
     "output_type": "display_data"
    },
    {
     "data": {
      "application/vnd.jupyter.widget-view+json": {
       "model_id": "663e03ebcfd14f7088a444b64def6d34",
       "version_major": 2,
       "version_minor": 0
      },
      "text/plain": [
       "Checking group /data_large/r/runway: 0group [00:00, ?group/s]"
      ]
     },
     "metadata": {},
     "output_type": "display_data"
    },
    {
     "data": {
      "application/vnd.jupyter.widget-view+json": {
       "model_id": "d1651495898a4bafbddada95e37c32ef",
       "version_major": 2,
       "version_minor": 0
      },
      "text/plain": [
       "Checking group /data_large/s:   0%|          | 0/30 [00:00<?, ?group/s]"
      ]
     },
     "metadata": {},
     "output_type": "display_data"
    },
    {
     "data": {
      "application/vnd.jupyter.widget-view+json": {
       "model_id": "9e9d91fecef94b24bdf832478cd33139",
       "version_major": 2,
       "version_minor": 0
      },
      "text/plain": [
       "Checking group /data_large/s/sandbox: 0group [00:00, ?group/s]"
      ]
     },
     "metadata": {},
     "output_type": "display_data"
    },
    {
     "data": {
      "application/vnd.jupyter.widget-view+json": {
       "model_id": "f821b12b33fa4fec89c38dc0e3b2306c",
       "version_major": 2,
       "version_minor": 0
      },
      "text/plain": [
       "Checking group /data_large/s/sauna: 0group [00:00, ?group/s]"
      ]
     },
     "metadata": {},
     "output_type": "display_data"
    },
    {
     "data": {
      "application/vnd.jupyter.widget-view+json": {
       "model_id": "ac6696daa76c45db9cae43ac68117895",
       "version_major": 2,
       "version_minor": 0
      },
      "text/plain": [
       "Checking group /data_large/s/schoolhouse: 0group [00:00, ?group/s]"
      ]
     },
     "metadata": {},
     "output_type": "display_data"
    },
    {
     "data": {
      "application/vnd.jupyter.widget-view+json": {
       "model_id": "6f658e96a03942078574aee1ea088009",
       "version_major": 2,
       "version_minor": 0
      },
      "text/plain": [
       "Checking group /data_large/s/science_museum: 0group [00:00, ?group/s]"
      ]
     },
     "metadata": {},
     "output_type": "display_data"
    },
    {
     "data": {
      "application/vnd.jupyter.widget-view+json": {
       "model_id": "e92043d4fba64a25acf80f8673bfccca",
       "version_major": 2,
       "version_minor": 0
      },
      "text/plain": [
       "Checking group /data_large/s/server_room: 0group [00:00, ?group/s]"
      ]
     },
     "metadata": {},
     "output_type": "display_data"
    },
    {
     "data": {
      "application/vnd.jupyter.widget-view+json": {
       "model_id": "c1674eb5f212489593ace817ef2006fc",
       "version_major": 2,
       "version_minor": 0
      },
      "text/plain": [
       "Checking group /data_large/s/shed: 0group [00:00, ?group/s]"
      ]
     },
     "metadata": {},
     "output_type": "display_data"
    },
    {
     "data": {
      "application/vnd.jupyter.widget-view+json": {
       "model_id": "c41869c19ee7466d975ef529dcd2ea12",
       "version_major": 2,
       "version_minor": 0
      },
      "text/plain": [
       "Checking group /data_large/s/shoe_shop: 0group [00:00, ?group/s]"
      ]
     },
     "metadata": {},
     "output_type": "display_data"
    },
    {
     "data": {
      "application/vnd.jupyter.widget-view+json": {
       "model_id": "845aed19c3a54f35a5984664fc5296f9",
       "version_major": 2,
       "version_minor": 0
      },
      "text/plain": [
       "Checking group /data_large/s/shopfront: 0group [00:00, ?group/s]"
      ]
     },
     "metadata": {},
     "output_type": "display_data"
    },
    {
     "data": {
      "application/vnd.jupyter.widget-view+json": {
       "model_id": "fa720e18b75a4250befe3b08833bf47d",
       "version_major": 2,
       "version_minor": 0
      },
      "text/plain": [
       "Checking group /data_large/s/shopping_mall:   0%|          | 0/1 [00:00<?, ?group/s]"
      ]
     },
     "metadata": {},
     "output_type": "display_data"
    },
    {
     "data": {
      "application/vnd.jupyter.widget-view+json": {
       "model_id": "8ecae3c36d01475fa78a0fdb58f8fbaf",
       "version_major": 2,
       "version_minor": 0
      },
      "text/plain": [
       "Checking group /data_large/s/shopping_mall/indoor: 0group [00:00, ?group/s]"
      ]
     },
     "metadata": {},
     "output_type": "display_data"
    },
    {
     "data": {
      "application/vnd.jupyter.widget-view+json": {
       "model_id": "54ee2deef79847b3a5b4485de9cd1dd5",
       "version_major": 2,
       "version_minor": 0
      },
      "text/plain": [
       "Checking group /data_large/s/shower: 0group [00:00, ?group/s]"
      ]
     },
     "metadata": {},
     "output_type": "display_data"
    },
    {
     "data": {
      "application/vnd.jupyter.widget-view+json": {
       "model_id": "dd4da5d91c0347dfab628f0252537553",
       "version_major": 2,
       "version_minor": 0
      },
      "text/plain": [
       "Checking group /data_large/s/ski_resort: 0group [00:00, ?group/s]"
      ]
     },
     "metadata": {},
     "output_type": "display_data"
    },
    {
     "data": {
      "application/vnd.jupyter.widget-view+json": {
       "model_id": "523aad079498443aa03610dc3968c2c8",
       "version_major": 2,
       "version_minor": 0
      },
      "text/plain": [
       "Checking group /data_large/s/ski_slope: 0group [00:00, ?group/s]"
      ]
     },
     "metadata": {},
     "output_type": "display_data"
    },
    {
     "data": {
      "application/vnd.jupyter.widget-view+json": {
       "model_id": "41bab9822d4a43dfb9270649df6b6872",
       "version_major": 2,
       "version_minor": 0
      },
      "text/plain": [
       "Checking group /data_large/s/sky: 0group [00:00, ?group/s]"
      ]
     },
     "metadata": {},
     "output_type": "display_data"
    },
    {
     "data": {
      "application/vnd.jupyter.widget-view+json": {
       "model_id": "0db707cd88b94e049bc4271f622c1ce6",
       "version_major": 2,
       "version_minor": 0
      },
      "text/plain": [
       "Checking group /data_large/s/skyscraper: 0group [00:00, ?group/s]"
      ]
     },
     "metadata": {},
     "output_type": "display_data"
    },
    {
     "data": {
      "application/vnd.jupyter.widget-view+json": {
       "model_id": "852221e344f2458cbbb0c27f5300e536",
       "version_major": 2,
       "version_minor": 0
      },
      "text/plain": [
       "Checking group /data_large/s/slum: 0group [00:00, ?group/s]"
      ]
     },
     "metadata": {},
     "output_type": "display_data"
    },
    {
     "data": {
      "application/vnd.jupyter.widget-view+json": {
       "model_id": "67e51191b2314708a9bbc78f7c11bf7d",
       "version_major": 2,
       "version_minor": 0
      },
      "text/plain": [
       "Checking group /data_large/s/snowfield: 0group [00:00, ?group/s]"
      ]
     },
     "metadata": {},
     "output_type": "display_data"
    },
    {
     "data": {
      "application/vnd.jupyter.widget-view+json": {
       "model_id": "15d1de3495494756a7298eeafe1ed601",
       "version_major": 2,
       "version_minor": 0
      },
      "text/plain": [
       "Checking group /data_large/s/soccer_field: 0group [00:00, ?group/s]"
      ]
     },
     "metadata": {},
     "output_type": "display_data"
    },
    {
     "data": {
      "application/vnd.jupyter.widget-view+json": {
       "model_id": "29fe8c93cc2147d6a444f399b573eebc",
       "version_major": 2,
       "version_minor": 0
      },
      "text/plain": [
       "Checking group /data_large/s/stable: 0group [00:00, ?group/s]"
      ]
     },
     "metadata": {},
     "output_type": "display_data"
    },
    {
     "data": {
      "application/vnd.jupyter.widget-view+json": {
       "model_id": "a8e874c83c104a37b0ec4e3908e8bf3c",
       "version_major": 2,
       "version_minor": 0
      },
      "text/plain": [
       "Checking group /data_large/s/stadium:   0%|          | 0/3 [00:00<?, ?group/s]"
      ]
     },
     "metadata": {},
     "output_type": "display_data"
    },
    {
     "data": {
      "application/vnd.jupyter.widget-view+json": {
       "model_id": "71b52295229e44de89ab5f58e0488f2e",
       "version_major": 2,
       "version_minor": 0
      },
      "text/plain": [
       "Checking group /data_large/s/stadium/baseball: 0group [00:00, ?group/s]"
      ]
     },
     "metadata": {},
     "output_type": "display_data"
    },
    {
     "data": {
      "application/vnd.jupyter.widget-view+json": {
       "model_id": "78d67b68e99f46cca45819e41a6a8955",
       "version_major": 2,
       "version_minor": 0
      },
      "text/plain": [
       "Checking group /data_large/s/stadium/football: 0group [00:00, ?group/s]"
      ]
     },
     "metadata": {},
     "output_type": "display_data"
    },
    {
     "data": {
      "application/vnd.jupyter.widget-view+json": {
       "model_id": "59a82397310841c79218c7fe381505dd",
       "version_major": 2,
       "version_minor": 0
      },
      "text/plain": [
       "Checking group /data_large/s/stadium/soccer: 0group [00:00, ?group/s]"
      ]
     },
     "metadata": {},
     "output_type": "display_data"
    },
    {
     "data": {
      "application/vnd.jupyter.widget-view+json": {
       "model_id": "20ed0e143cbd432383bc65e5d4c885a2",
       "version_major": 2,
       "version_minor": 0
      },
      "text/plain": [
       "Checking group /data_large/s/stage:   0%|          | 0/2 [00:00<?, ?group/s]"
      ]
     },
     "metadata": {},
     "output_type": "display_data"
    },
    {
     "data": {
      "application/vnd.jupyter.widget-view+json": {
       "model_id": "71eaa989be7f4d598ad902ea1c93936b",
       "version_major": 2,
       "version_minor": 0
      },
      "text/plain": [
       "Checking group /data_large/s/stage/indoor: 0group [00:00, ?group/s]"
      ]
     },
     "metadata": {},
     "output_type": "display_data"
    },
    {
     "data": {
      "application/vnd.jupyter.widget-view+json": {
       "model_id": "0a0ebbb783dc490bbafbda9dd2452bf4",
       "version_major": 2,
       "version_minor": 0
      },
      "text/plain": [
       "Checking group /data_large/s/stage/outdoor: 0group [00:00, ?group/s]"
      ]
     },
     "metadata": {},
     "output_type": "display_data"
    },
    {
     "data": {
      "application/vnd.jupyter.widget-view+json": {
       "model_id": "34a788428d5d46a8b8e2adde217b1a8b",
       "version_major": 2,
       "version_minor": 0
      },
      "text/plain": [
       "Checking group /data_large/s/staircase: 0group [00:00, ?group/s]"
      ]
     },
     "metadata": {},
     "output_type": "display_data"
    },
    {
     "data": {
      "application/vnd.jupyter.widget-view+json": {
       "model_id": "98f9e275ae3b45eb82bbdbfa3240d991",
       "version_major": 2,
       "version_minor": 0
      },
      "text/plain": [
       "Checking group /data_large/s/storage_room: 0group [00:00, ?group/s]"
      ]
     },
     "metadata": {},
     "output_type": "display_data"
    },
    {
     "data": {
      "application/vnd.jupyter.widget-view+json": {
       "model_id": "8c9382af98ea4bcc84ef0e4721d7ea4b",
       "version_major": 2,
       "version_minor": 0
      },
      "text/plain": [
       "Checking group /data_large/s/street: 0group [00:00, ?group/s]"
      ]
     },
     "metadata": {},
     "output_type": "display_data"
    },
    {
     "data": {
      "application/vnd.jupyter.widget-view+json": {
       "model_id": "825c27d153d048a6be71ba0c534a1495",
       "version_major": 2,
       "version_minor": 0
      },
      "text/plain": [
       "Checking group /data_large/s/subway_station:   0%|          | 0/1 [00:00<?, ?group/s]"
      ]
     },
     "metadata": {},
     "output_type": "display_data"
    },
    {
     "data": {
      "application/vnd.jupyter.widget-view+json": {
       "model_id": "3f8b3e8d98244927b52af7241af4a623",
       "version_major": 2,
       "version_minor": 0
      },
      "text/plain": [
       "Checking group /data_large/s/subway_station/platform: 0group [00:00, ?group/s]"
      ]
     },
     "metadata": {},
     "output_type": "display_data"
    },
    {
     "data": {
      "application/vnd.jupyter.widget-view+json": {
       "model_id": "fcee0e2776884a7f99fdf846344f3669",
       "version_major": 2,
       "version_minor": 0
      },
      "text/plain": [
       "Checking group /data_large/s/supermarket: 0group [00:00, ?group/s]"
      ]
     },
     "metadata": {},
     "output_type": "display_data"
    },
    {
     "data": {
      "application/vnd.jupyter.widget-view+json": {
       "model_id": "58b830d10ffc4d499a76e5d817865d75",
       "version_major": 2,
       "version_minor": 0
      },
      "text/plain": [
       "Checking group /data_large/s/sushi_bar: 0group [00:00, ?group/s]"
      ]
     },
     "metadata": {},
     "output_type": "display_data"
    },
    {
     "data": {
      "application/vnd.jupyter.widget-view+json": {
       "model_id": "bed9f56f931246a3b929747915f0127d",
       "version_major": 2,
       "version_minor": 0
      },
      "text/plain": [
       "Checking group /data_large/s/swamp: 0group [00:00, ?group/s]"
      ]
     },
     "metadata": {},
     "output_type": "display_data"
    },
    {
     "data": {
      "application/vnd.jupyter.widget-view+json": {
       "model_id": "2592dfa0d9bb4ad29c110fd913d24c08",
       "version_major": 2,
       "version_minor": 0
      },
      "text/plain": [
       "Checking group /data_large/s/swimming_hole: 0group [00:00, ?group/s]"
      ]
     },
     "metadata": {},
     "output_type": "display_data"
    },
    {
     "data": {
      "application/vnd.jupyter.widget-view+json": {
       "model_id": "bb944f0484b7407ca8de1c39a6331e66",
       "version_major": 2,
       "version_minor": 0
      },
      "text/plain": [
       "Checking group /data_large/s/swimming_pool:   0%|          | 0/2 [00:00<?, ?group/s]"
      ]
     },
     "metadata": {},
     "output_type": "display_data"
    },
    {
     "data": {
      "application/vnd.jupyter.widget-view+json": {
       "model_id": "9c85423cf04d4a94834e2900df95417c",
       "version_major": 2,
       "version_minor": 0
      },
      "text/plain": [
       "Checking group /data_large/s/swimming_pool/indoor: 0group [00:00, ?group/s]"
      ]
     },
     "metadata": {},
     "output_type": "display_data"
    },
    {
     "data": {
      "application/vnd.jupyter.widget-view+json": {
       "model_id": "e0d137151a904ba292755303b22537d4",
       "version_major": 2,
       "version_minor": 0
      },
      "text/plain": [
       "Checking group /data_large/s/swimming_pool/outdoor: 0group [00:00, ?group/s]"
      ]
     },
     "metadata": {},
     "output_type": "display_data"
    },
    {
     "data": {
      "application/vnd.jupyter.widget-view+json": {
       "model_id": "665aa11194b74f91983a9ae4732baefb",
       "version_major": 2,
       "version_minor": 0
      },
      "text/plain": [
       "Checking group /data_large/s/synagogue:   0%|          | 0/1 [00:00<?, ?group/s]"
      ]
     },
     "metadata": {},
     "output_type": "display_data"
    },
    {
     "data": {
      "application/vnd.jupyter.widget-view+json": {
       "model_id": "849580c98deb47efab1ca57c81b3a9f3",
       "version_major": 2,
       "version_minor": 0
      },
      "text/plain": [
       "Checking group /data_large/s/synagogue/outdoor: 0group [00:00, ?group/s]"
      ]
     },
     "metadata": {},
     "output_type": "display_data"
    },
    {
     "data": {
      "application/vnd.jupyter.widget-view+json": {
       "model_id": "7be7d67213724b99978ec7daa18a3ea1",
       "version_major": 2,
       "version_minor": 0
      },
      "text/plain": [
       "Checking group /data_large/t:   0%|          | 0/14 [00:00<?, ?group/s]"
      ]
     },
     "metadata": {},
     "output_type": "display_data"
    },
    {
     "data": {
      "application/vnd.jupyter.widget-view+json": {
       "model_id": "b14c90a14ac54fe19d5ec41d930d35c3",
       "version_major": 2,
       "version_minor": 0
      },
      "text/plain": [
       "Checking group /data_large/t/television_room: 0group [00:00, ?group/s]"
      ]
     },
     "metadata": {},
     "output_type": "display_data"
    },
    {
     "data": {
      "application/vnd.jupyter.widget-view+json": {
       "model_id": "d46ff18f950a477ca582104d57a9848a",
       "version_major": 2,
       "version_minor": 0
      },
      "text/plain": [
       "Checking group /data_large/t/television_studio: 0group [00:00, ?group/s]"
      ]
     },
     "metadata": {},
     "output_type": "display_data"
    },
    {
     "data": {
      "application/vnd.jupyter.widget-view+json": {
       "model_id": "d12cbbe4c531490598f6082af562d8c8",
       "version_major": 2,
       "version_minor": 0
      },
      "text/plain": [
       "Checking group /data_large/t/temple:   0%|          | 0/1 [00:00<?, ?group/s]"
      ]
     },
     "metadata": {},
     "output_type": "display_data"
    },
    {
     "data": {
      "application/vnd.jupyter.widget-view+json": {
       "model_id": "635ca310cdee4c5cb86e03746b51ece2",
       "version_major": 2,
       "version_minor": 0
      },
      "text/plain": [
       "Checking group /data_large/t/temple/asia: 0group [00:00, ?group/s]"
      ]
     },
     "metadata": {},
     "output_type": "display_data"
    },
    {
     "data": {
      "application/vnd.jupyter.widget-view+json": {
       "model_id": "6c9a709a387249d095654495e0d43f1f",
       "version_major": 2,
       "version_minor": 0
      },
      "text/plain": [
       "Checking group /data_large/t/throne_room: 0group [00:00, ?group/s]"
      ]
     },
     "metadata": {},
     "output_type": "display_data"
    },
    {
     "data": {
      "application/vnd.jupyter.widget-view+json": {
       "model_id": "720b74fcbc8843bba24c8ebbf83e91ae",
       "version_major": 2,
       "version_minor": 0
      },
      "text/plain": [
       "Checking group /data_large/t/ticket_booth: 0group [00:00, ?group/s]"
      ]
     },
     "metadata": {},
     "output_type": "display_data"
    },
    {
     "data": {
      "application/vnd.jupyter.widget-view+json": {
       "model_id": "fac69fff0b254b40a941150e1c7b022d",
       "version_major": 2,
       "version_minor": 0
      },
      "text/plain": [
       "Checking group /data_large/t/topiary_garden: 0group [00:00, ?group/s]"
      ]
     },
     "metadata": {},
     "output_type": "display_data"
    },
    {
     "data": {
      "application/vnd.jupyter.widget-view+json": {
       "model_id": "4eb1e870a20f4413b5cc3496dba5469b",
       "version_major": 2,
       "version_minor": 0
      },
      "text/plain": [
       "Checking group /data_large/t/tower: 0group [00:00, ?group/s]"
      ]
     },
     "metadata": {},
     "output_type": "display_data"
    },
    {
     "data": {
      "application/vnd.jupyter.widget-view+json": {
       "model_id": "58ca716fcaa64a6ab763f58184b0c043",
       "version_major": 2,
       "version_minor": 0
      },
      "text/plain": [
       "Checking group /data_large/t/toyshop: 0group [00:00, ?group/s]"
      ]
     },
     "metadata": {},
     "output_type": "display_data"
    },
    {
     "data": {
      "application/vnd.jupyter.widget-view+json": {
       "model_id": "a0ff0e126c9e406383b7d445c58d1d63",
       "version_major": 2,
       "version_minor": 0
      },
      "text/plain": [
       "Checking group /data_large/t/train_interior: 0group [00:00, ?group/s]"
      ]
     },
     "metadata": {},
     "output_type": "display_data"
    },
    {
     "data": {
      "application/vnd.jupyter.widget-view+json": {
       "model_id": "39b7603318ac4c0180d97324e871d4e5",
       "version_major": 2,
       "version_minor": 0
      },
      "text/plain": [
       "Checking group /data_large/t/train_station:   0%|          | 0/1 [00:00<?, ?group/s]"
      ]
     },
     "metadata": {},
     "output_type": "display_data"
    },
    {
     "data": {
      "application/vnd.jupyter.widget-view+json": {
       "model_id": "8cab6174343743bea0d21cfc641f3846",
       "version_major": 2,
       "version_minor": 0
      },
      "text/plain": [
       "Checking group /data_large/t/train_station/platform: 0group [00:00, ?group/s]"
      ]
     },
     "metadata": {},
     "output_type": "display_data"
    },
    {
     "data": {
      "application/vnd.jupyter.widget-view+json": {
       "model_id": "ca8b4fcd19054a3eb0ce88905fe6bbab",
       "version_major": 2,
       "version_minor": 0
      },
      "text/plain": [
       "Checking group /data_large/t/tree_farm: 0group [00:00, ?group/s]"
      ]
     },
     "metadata": {},
     "output_type": "display_data"
    },
    {
     "data": {
      "application/vnd.jupyter.widget-view+json": {
       "model_id": "e8acc0e9dca642a1ac50853e7f8a2389",
       "version_major": 2,
       "version_minor": 0
      },
      "text/plain": [
       "Checking group /data_large/t/tree_house: 0group [00:00, ?group/s]"
      ]
     },
     "metadata": {},
     "output_type": "display_data"
    },
    {
     "data": {
      "application/vnd.jupyter.widget-view+json": {
       "model_id": "615da0e36a7745f6830525b30d8f2f06",
       "version_major": 2,
       "version_minor": 0
      },
      "text/plain": [
       "Checking group /data_large/t/trench: 0group [00:00, ?group/s]"
      ]
     },
     "metadata": {},
     "output_type": "display_data"
    },
    {
     "data": {
      "application/vnd.jupyter.widget-view+json": {
       "model_id": "49575348ddec4a229884c3d08862ea5c",
       "version_major": 2,
       "version_minor": 0
      },
      "text/plain": [
       "Checking group /data_large/t/tundra: 0group [00:00, ?group/s]"
      ]
     },
     "metadata": {},
     "output_type": "display_data"
    },
    {
     "data": {
      "application/vnd.jupyter.widget-view+json": {
       "model_id": "4dda1336edd34e35a8001b3460a4e85b",
       "version_major": 2,
       "version_minor": 0
      },
      "text/plain": [
       "Checking group /data_large/u:   0%|          | 0/2 [00:00<?, ?group/s]"
      ]
     },
     "metadata": {},
     "output_type": "display_data"
    },
    {
     "data": {
      "application/vnd.jupyter.widget-view+json": {
       "model_id": "96eb5be97d3344b197583a68ef727c2a",
       "version_major": 2,
       "version_minor": 0
      },
      "text/plain": [
       "Checking group /data_large/u/underwater:   0%|          | 0/1 [00:00<?, ?group/s]"
      ]
     },
     "metadata": {},
     "output_type": "display_data"
    },
    {
     "data": {
      "application/vnd.jupyter.widget-view+json": {
       "model_id": "0be1ca1b0e824ab9917de46fd28bdca9",
       "version_major": 2,
       "version_minor": 0
      },
      "text/plain": [
       "Checking group /data_large/u/underwater/ocean_deep: 0group [00:00, ?group/s]"
      ]
     },
     "metadata": {},
     "output_type": "display_data"
    },
    {
     "data": {
      "application/vnd.jupyter.widget-view+json": {
       "model_id": "92abb81567ef4a118e73735240bbdf6b",
       "version_major": 2,
       "version_minor": 0
      },
      "text/plain": [
       "Checking group /data_large/u/utility_room: 0group [00:00, ?group/s]"
      ]
     },
     "metadata": {},
     "output_type": "display_data"
    },
    {
     "data": {
      "application/vnd.jupyter.widget-view+json": {
       "model_id": "f1c560bdc9694b8992a99c01cde14c5b",
       "version_major": 2,
       "version_minor": 0
      },
      "text/plain": [
       "Checking group /data_large/v:   0%|          | 0/8 [00:00<?, ?group/s]"
      ]
     },
     "metadata": {},
     "output_type": "display_data"
    },
    {
     "data": {
      "application/vnd.jupyter.widget-view+json": {
       "model_id": "2889a1ae0ffd404b845c67e78366f231",
       "version_major": 2,
       "version_minor": 0
      },
      "text/plain": [
       "Checking group /data_large/v/valley: 0group [00:00, ?group/s]"
      ]
     },
     "metadata": {},
     "output_type": "display_data"
    },
    {
     "data": {
      "application/vnd.jupyter.widget-view+json": {
       "model_id": "1e25df7f60614a97ad044c021e2b3bac",
       "version_major": 2,
       "version_minor": 0
      },
      "text/plain": [
       "Checking group /data_large/v/vegetable_garden: 0group [00:00, ?group/s]"
      ]
     },
     "metadata": {},
     "output_type": "display_data"
    },
    {
     "data": {
      "application/vnd.jupyter.widget-view+json": {
       "model_id": "0b5d708cbec04430af829eb70efd3781",
       "version_major": 2,
       "version_minor": 0
      },
      "text/plain": [
       "Checking group /data_large/v/veterinarians_office: 0group [00:00, ?group/s]"
      ]
     },
     "metadata": {},
     "output_type": "display_data"
    },
    {
     "data": {
      "application/vnd.jupyter.widget-view+json": {
       "model_id": "3500d3823eed4231b9dc3844cce684b3",
       "version_major": 2,
       "version_minor": 0
      },
      "text/plain": [
       "Checking group /data_large/v/viaduct: 0group [00:00, ?group/s]"
      ]
     },
     "metadata": {},
     "output_type": "display_data"
    },
    {
     "data": {
      "application/vnd.jupyter.widget-view+json": {
       "model_id": "860a801579504eeeb6e9de6b836cd488",
       "version_major": 2,
       "version_minor": 0
      },
      "text/plain": [
       "Checking group /data_large/v/village: 0group [00:00, ?group/s]"
      ]
     },
     "metadata": {},
     "output_type": "display_data"
    },
    {
     "data": {
      "application/vnd.jupyter.widget-view+json": {
       "model_id": "aedab71a82b84aa489e821cc84e7e4a0",
       "version_major": 2,
       "version_minor": 0
      },
      "text/plain": [
       "Checking group /data_large/v/vineyard: 0group [00:00, ?group/s]"
      ]
     },
     "metadata": {},
     "output_type": "display_data"
    },
    {
     "data": {
      "application/vnd.jupyter.widget-view+json": {
       "model_id": "d06a9aeb337042caaa5aedb94aa06d3b",
       "version_major": 2,
       "version_minor": 0
      },
      "text/plain": [
       "Checking group /data_large/v/volcano: 0group [00:00, ?group/s]"
      ]
     },
     "metadata": {},
     "output_type": "display_data"
    },
    {
     "data": {
      "application/vnd.jupyter.widget-view+json": {
       "model_id": "319d6a34dce44ff0b1efdd4d66bb6ee8",
       "version_major": 2,
       "version_minor": 0
      },
      "text/plain": [
       "Checking group /data_large/v/volleyball_court:   0%|          | 0/1 [00:00<?, ?group/s]"
      ]
     },
     "metadata": {},
     "output_type": "display_data"
    },
    {
     "data": {
      "application/vnd.jupyter.widget-view+json": {
       "model_id": "83cc4faa06f64051ae0670c02433ba9e",
       "version_major": 2,
       "version_minor": 0
      },
      "text/plain": [
       "Checking group /data_large/v/volleyball_court/outdoor: 0group [00:00, ?group/s]"
      ]
     },
     "metadata": {},
     "output_type": "display_data"
    },
    {
     "data": {
      "application/vnd.jupyter.widget-view+json": {
       "model_id": "0595e84a0e8144759f6e57a8ead3b14f",
       "version_major": 2,
       "version_minor": 0
      },
      "text/plain": [
       "Checking group /data_large/w:   0%|          | 0/10 [00:00<?, ?group/s]"
      ]
     },
     "metadata": {},
     "output_type": "display_data"
    },
    {
     "data": {
      "application/vnd.jupyter.widget-view+json": {
       "model_id": "ee20925d84f2470b977b7bce8fe38cb0",
       "version_major": 2,
       "version_minor": 0
      },
      "text/plain": [
       "Checking group /data_large/w/waiting_room: 0group [00:00, ?group/s]"
      ]
     },
     "metadata": {},
     "output_type": "display_data"
    },
    {
     "data": {
      "application/vnd.jupyter.widget-view+json": {
       "model_id": "c31b883b96414eebb1f502ccf76e77dd",
       "version_major": 2,
       "version_minor": 0
      },
      "text/plain": [
       "Checking group /data_large/w/water_park: 0group [00:00, ?group/s]"
      ]
     },
     "metadata": {},
     "output_type": "display_data"
    },
    {
     "data": {
      "application/vnd.jupyter.widget-view+json": {
       "model_id": "a3cf59dacc9e4bac94b6e1fe5fd72873",
       "version_major": 2,
       "version_minor": 0
      },
      "text/plain": [
       "Checking group /data_large/w/water_tower: 0group [00:00, ?group/s]"
      ]
     },
     "metadata": {},
     "output_type": "display_data"
    },
    {
     "data": {
      "application/vnd.jupyter.widget-view+json": {
       "model_id": "598ad36bfbfc4459891b2074bcdfeefc",
       "version_major": 2,
       "version_minor": 0
      },
      "text/plain": [
       "Checking group /data_large/w/waterfall: 0group [00:00, ?group/s]"
      ]
     },
     "metadata": {},
     "output_type": "display_data"
    },
    {
     "data": {
      "application/vnd.jupyter.widget-view+json": {
       "model_id": "47e361e17b194d899134e3735f1845fe",
       "version_major": 2,
       "version_minor": 0
      },
      "text/plain": [
       "Checking group /data_large/w/watering_hole: 0group [00:00, ?group/s]"
      ]
     },
     "metadata": {},
     "output_type": "display_data"
    },
    {
     "data": {
      "application/vnd.jupyter.widget-view+json": {
       "model_id": "723117aa4cbb476a87b88c82063f6ec3",
       "version_major": 2,
       "version_minor": 0
      },
      "text/plain": [
       "Checking group /data_large/w/wave: 0group [00:00, ?group/s]"
      ]
     },
     "metadata": {},
     "output_type": "display_data"
    },
    {
     "data": {
      "application/vnd.jupyter.widget-view+json": {
       "model_id": "e8e1251fe78a41c59b009010ade5bb8f",
       "version_major": 2,
       "version_minor": 0
      },
      "text/plain": [
       "Checking group /data_large/w/wet_bar: 0group [00:00, ?group/s]"
      ]
     },
     "metadata": {},
     "output_type": "display_data"
    },
    {
     "data": {
      "application/vnd.jupyter.widget-view+json": {
       "model_id": "bcc70edf495c40929e94e1e61131f5b0",
       "version_major": 2,
       "version_minor": 0
      },
      "text/plain": [
       "Checking group /data_large/w/wheat_field: 0group [00:00, ?group/s]"
      ]
     },
     "metadata": {},
     "output_type": "display_data"
    },
    {
     "data": {
      "application/vnd.jupyter.widget-view+json": {
       "model_id": "6e96660b077d4778bfbc4db60817bcad",
       "version_major": 2,
       "version_minor": 0
      },
      "text/plain": [
       "Checking group /data_large/w/wind_farm: 0group [00:00, ?group/s]"
      ]
     },
     "metadata": {},
     "output_type": "display_data"
    },
    {
     "data": {
      "application/vnd.jupyter.widget-view+json": {
       "model_id": "3357fc5d5ac245a390ac827183d350ce",
       "version_major": 2,
       "version_minor": 0
      },
      "text/plain": [
       "Checking group /data_large/w/windmill: 0group [00:00, ?group/s]"
      ]
     },
     "metadata": {},
     "output_type": "display_data"
    },
    {
     "data": {
      "application/vnd.jupyter.widget-view+json": {
       "model_id": "4d10ca8a07c045aca3c19c19bdb0b8a3",
       "version_major": 2,
       "version_minor": 0
      },
      "text/plain": [
       "Checking group /data_large/y:   0%|          | 0/2 [00:00<?, ?group/s]"
      ]
     },
     "metadata": {},
     "output_type": "display_data"
    },
    {
     "data": {
      "application/vnd.jupyter.widget-view+json": {
       "model_id": "e2033b23596949ba89250e358a47a476",
       "version_major": 2,
       "version_minor": 0
      },
      "text/plain": [
       "Checking group /data_large/y/yard: 0group [00:00, ?group/s]"
      ]
     },
     "metadata": {},
     "output_type": "display_data"
    },
    {
     "data": {
      "application/vnd.jupyter.widget-view+json": {
       "model_id": "0d82e61fe381486bbeb57153df41b522",
       "version_major": 2,
       "version_minor": 0
      },
      "text/plain": [
       "Checking group /data_large/y/youth_hostel: 0group [00:00, ?group/s]"
      ]
     },
     "metadata": {},
     "output_type": "display_data"
    },
    {
     "data": {
      "application/vnd.jupyter.widget-view+json": {
       "model_id": "94faa8c69edf45548f75efb65773e312",
       "version_major": 2,
       "version_minor": 0
      },
      "text/plain": [
       "Checking group /data_large/z:   0%|          | 0/1 [00:00<?, ?group/s]"
      ]
     },
     "metadata": {},
     "output_type": "display_data"
    },
    {
     "data": {
      "application/vnd.jupyter.widget-view+json": {
       "model_id": "6679e04537784191ace30c817ef1c2be",
       "version_major": 2,
       "version_minor": 0
      },
      "text/plain": [
       "Checking group /data_large/z/zen_garden: 0group [00:00, ?group/s]"
      ]
     },
     "metadata": {},
     "output_type": "display_data"
    },
    {
     "name": "stdout",
     "output_type": "stream",
     "text": [
      "All datasets in D:/dev/lama_stereoinpainting/docker/places/depth/train_large_places365standard_disparity_u8.hdf5 'min' and 'range' attributes.\n"
     ]
    },
    {
     "data": {
      "application/vnd.jupyter.widget-view+json": {
       "model_id": "8163de3a59f94b22a3efa38ddb0426cb",
       "version_major": 2,
       "version_minor": 0
      },
      "text/plain": [
       "Checking group /:   0%|          | 0/4 [00:00<?, ?group/s]"
      ]
     },
     "metadata": {},
     "output_type": "display_data"
    },
    {
     "data": {
      "application/vnd.jupyter.widget-view+json": {
       "model_id": "08d9d56cc3c049c1bde5ea1f904d5644",
       "version_major": 2,
       "version_minor": 0
      },
      "text/plain": [
       "Checking group /val: 0group [00:00, ?group/s]"
      ]
     },
     "metadata": {},
     "output_type": "display_data"
    },
    {
     "data": {
      "application/vnd.jupyter.widget-view+json": {
       "model_id": "9eee5261e7cf495db82a67acd027a80c",
       "version_major": 2,
       "version_minor": 0
      },
      "text/plain": [
       "Checking group /val_hires: 0group [00:00, ?group/s]"
      ]
     },
     "metadata": {},
     "output_type": "display_data"
    },
    {
     "data": {
      "application/vnd.jupyter.widget-view+json": {
       "model_id": "45f18530592b4179bf112b034c523585",
       "version_major": 2,
       "version_minor": 0
      },
      "text/plain": [
       "Checking group /visual_test: 0group [00:00, ?group/s]"
      ]
     },
     "metadata": {},
     "output_type": "display_data"
    },
    {
     "data": {
      "application/vnd.jupyter.widget-view+json": {
       "model_id": "1f7e0f85fbb94500a6d3362e7283aadf",
       "version_major": 2,
       "version_minor": 0
      },
      "text/plain": [
       "Checking group /visual_test_hires: 0group [00:00, ?group/s]"
      ]
     },
     "metadata": {},
     "output_type": "display_data"
    },
    {
     "name": "stdout",
     "output_type": "stream",
     "text": [
      "All datasets in D:/dev/lama_stereoinpainting/docker/places/depth/val_large_places365standard_disparity_u8.hdf5 'min' and 'range' attributes.\n"
     ]
    }
   ],
   "source": [
    "hdf5_path = ['D:/dev/lama_stereoinpainting/docker/places/depth/train_large_places365standard_disparity_u8.hdf5',\n",
    "             'D:/dev/lama_stereoinpainting/docker/places/depth/val_large_places365standard_disparity_u8.hdf5',]\n",
    "\n",
    "broken_datasets = []\n",
    "for path in hdf5_path:\n",
    "    broken = find_broken_datasets(path)\n",
    "    broken_datasets.append(broken)\n",
    "\n",
    "    if broken:\n",
    "        print(f\"Broken datasets in {path}:\")\n",
    "        for dataset in broken:\n",
    "            print(dataset)\n",
    "    else:\n",
    "        print(f\"All datasets in {path} 'min' and 'range' attributes.\")"
   ]
  },
  {
   "cell_type": "code",
   "execution_count": 10,
   "metadata": {},
   "outputs": [
    {
     "name": "stdout",
     "output_type": "stream",
     "text": [
      "Refreshing depth estimator\n",
      "Lazy loading Depth-Anything-V2\n",
      "DepthAnything-V2 parameters: 335.32M\n",
      "<KeysViewHDF5 ['min', 'range']>\n"
     ]
    },
    {
     "data": {
      "image/png": "[encoded data removed]",
      "text/plain": [
       "<Figure size 640x480 with 1 Axes>"
      ]
     },
     "metadata": {},
     "output_type": "display_data"
    },
    {
     "data": {
      "image/png": "[encoded data removed]",
      "text/plain": [
       "<Figure size 640x480 with 1 Axes>"
      ]
     },
     "metadata": {},
     "output_type": "display_data"
    },
    {
     "data": {
      "image/png": "[encoded data removed]",
      "text/plain": [
       "<Figure size 640x480 with 1 Axes>"
      ]
     },
     "metadata": {},
     "output_type": "display_data"
    },
    {
     "name": "stdout",
     "output_type": "stream",
     "text": [
      "0 0\n",
      "Refreshing depth estimator\n",
      "Lazy loading Depth-Anything-V2\n",
      "DepthAnything-V2 parameters: 335.32M\n",
      "<KeysViewHDF5 ['min', 'range']>\n"
     ]
    },
    {
     "data": {
      "image/png": "[encoded data removed]",
      "text/plain": [
       "<Figure size 640x480 with 1 Axes>"
      ]
     },
     "metadata": {},
     "output_type": "display_data"
    },
    {
     "data": {
      "image/png": "[encoded data removed]",
      "text/plain": [
       "<Figure size 640x480 with 1 Axes>"
      ]
     },
     "metadata": {},
     "output_type": "display_data"
    },
    {
     "data": {
      "image/png": "[encoded data removed]",
      "text/plain": [
       "<Figure size 640x480 with 1 Axes>"
      ]
     },
     "metadata": {},
     "output_type": "display_data"
    },
    {
     "name": "stdout",
     "output_type": "stream",
     "text": [
      "0 0\n",
      "Refreshing depth estimator\n",
      "Lazy loading Depth-Anything-V2\n",
      "DepthAnything-V2 parameters: 335.32M\n",
      "<KeysViewHDF5 ['min', 'range']>\n"
     ]
    },
    {
     "data": {
      "image/png": "[encoded data removed]",
      "text/plain": [
       "<Figure size 640x480 with 1 Axes>"
      ]
     },
     "metadata": {},
     "output_type": "display_data"
    },
    {
     "data": {
      "image/png": "[encoded data removed]",
      "text/plain": [
       "<Figure size 640x480 with 1 Axes>"
      ]
     },
     "metadata": {},
     "output_type": "display_data"
    },
    {
     "data": {
      "image/png": "[encoded data removed]",
      "text/plain": [
       "<Figure size 640x480 with 1 Axes>"
      ]
     },
     "metadata": {},
     "output_type": "display_data"
    },
    {
     "name": "stdout",
     "output_type": "stream",
     "text": [
      "0 0\n",
      "Refreshing depth estimator\n",
      "Lazy loading Depth-Anything-V2\n",
      "DepthAnything-V2 parameters: 335.32M\n",
      "<KeysViewHDF5 ['min', 'range']>\n"
     ]
    },
    {
     "data": {
      "image/png": "[encoded data removed]",
      "text/plain": [
       "<Figure size 640x480 with 1 Axes>"
      ]
     },
     "metadata": {},
     "output_type": "display_data"
    },
    {
     "data": {
      "image/png": "[encoded data removed]",
      "text/plain": [
       "<Figure size 640x480 with 1 Axes>"
      ]
     },
     "metadata": {},
     "output_type": "display_data"
    },
    {
     "data": {
      "image/png": "[encoded data removed]",
      "text/plain": [
       "<Figure size 640x480 with 1 Axes>"
      ]
     },
     "metadata": {},
     "output_type": "display_data"
    },
    {
     "name": "stdout",
     "output_type": "stream",
     "text": [
      "0 0\n"
     ]
    }
   ],
   "source": [
    "import numpy as np\n",
    "import cv2\n",
    "\n",
    "def fix_broken_dataset(hdf5_file_path, dataset_path, new_depth_map):\n",
    "    with h5py.File(hdf5_file_path, 'a') as hdf5_file:\n",
    "        if dataset_path in hdf5_file:\n",
    "            # Normalize depth map, subtract mean and divide by std\n",
    "            depth_map_min = np.min(new_depth_map)\n",
    "            depth_map_range = np.max(new_depth_map) - depth_map_min\n",
    "            depth_map = (new_depth_map - depth_map_min) / depth_map_range\n",
    "            depth_map_u16 = (depth_map * 65535).astype(np.uint16)\n",
    "\n",
    "            # Convert uint16 back to normalized float\n",
    "            depth_map_normalized = depth_map_u16.astype(np.float32) / 65535.0\n",
    "            \n",
    "            # Denormalize to reconstruct the original depth map\n",
    "            depth_map_reconstructed = depth_map_normalized * depth_map_range + depth_map_min\n",
    "\n",
    "            # convert to u8\n",
    "            reconstructed_min = np.min(depth_map_reconstructed)\n",
    "            reconstructed_range = np.max(depth_map_reconstructed) - reconstructed_min\n",
    "            depth_map_u8 = (depth_map_reconstructed - reconstructed_min) / reconstructed_range\n",
    "            depth_map_u8 = (depth_map_u8 * 255).astype(np.uint8)\n",
    "\n",
    "            print(hdf5_file[dataset_path].attrs.keys())\n",
    "            plt.imshow(hdf5_file[dataset_path][...])\n",
    "            plt.show()\n",
    "            plt.imshow(depth_map_u8)\n",
    "            plt.show()\n",
    "            diff_u8s = np.abs(hdf5_file[dataset_path][...] - depth_map_u8)\n",
    "            plt.imshow(diff_u8s)\n",
    "            plt.show()\n",
    "            print(np.min(diff_u8s), np.max(diff_u8s))\n",
    "\n",
    "            # Save the depth map in the group\n",
    "            #hdf5_file[dataset_path][...] = depth_map_u8\n",
    "            #hdf5_file[dataset_path].attrs['min'] = reconstructed_min\n",
    "            #hdf5_file[dataset_path].attrs['range'] = reconstructed_range\n",
    "\n",
    "\n",
    "def get_depth_img_from_path(root,dataset_path):\n",
    "    depth_anything = refresh_depth_estimator()\n",
    "    filename = f\"{root}/{dataset_path}.jpg\"\n",
    "    img = cv2.imread(filename)\n",
    "    img = cv2.cvtColor(img, cv2.COLOR_BGR2RGB)\n",
    "    depth_map = depth_anything.get_rawdepth(img)\n",
    "    return depth_map\n",
    "\n",
    "paths_to_fix = broken_datasets[0]\n",
    "for path in paths_to_fix:\n",
    "    fix_broken_dataset(hdf5_path[0], path, get_depth_img_from_path('D:/dev/lama_stereoinpainting/docker/places/places_standard_dataset/train', path))"
   ]
  },
  {
   "cell_type": "code",
   "execution_count": 11,
   "metadata": {},
   "outputs": [
    {
     "name": "stdout",
     "output_type": "stream",
     "text": [
      "Dataset count in D:/dev/lama_stereoinpainting/docker/places/depth/train_large_places365standard_disparity_u8.hdf5: 1803460\n",
      "Dataset count in D:/dev/lama_stereoinpainting/docker/places/depth/val_large_places365standard_disparity_u8.hdf5: 4189\n"
     ]
    }
   ],
   "source": [
    "def count_datasets(file_path):\n",
    "    dataset_count = 0\n",
    "\n",
    "    # Open the HDF5 file\n",
    "    with h5py.File(file_path, 'r') as hdf_file:\n",
    "        # Recursive function to count datasets\n",
    "        def count_in_group(group):\n",
    "            nonlocal dataset_count\n",
    "            for name, item in group.items():\n",
    "                if isinstance(item, h5py.Dataset):  # Check if it's a dataset\n",
    "                    dataset_count += 1\n",
    "                elif isinstance(item, h5py.Group):  # Recurse into groups\n",
    "                    count_in_group(item)\n",
    "\n",
    "        # Start counting from the root group\n",
    "        count_in_group(hdf_file)\n",
    "\n",
    "    return dataset_count\n",
    "\n",
    "for path in hdf5_path:\n",
    "    print(f\"Dataset count in {path}: {count_datasets(path)}\")"
   ]
  }
 ],
 "metadata": {
  "kernelspec": {
   "display_name": "depthanything_lama",
   "language": "python",
   "name": "python3"
  },
  "language_info": {
   "codemirror_mode": {
    "name": "ipython",
    "version": 3
   },
   "file_extension": ".py",
   "mimetype": "text/x-python",
   "name": "python",
   "nbconvert_exporter": "python",
   "pygments_lexer": "ipython3",
   "version": "3.10.14"
  }
 },
 "nbformat": 4,
 "nbformat_minor": 2
}
